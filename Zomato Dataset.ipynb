{
 "cells": [
  {
   "cell_type": "markdown",
   "id": "810cc31f-c744-4c24-8007-b94628b32242",
   "metadata": {
    "tags": []
   },
   "source": [
    "# Zomato Dataset EDA\n",
    "* Zomato API Analysis is one of the most useful analysis for foodies who want to taste the best cuisines of every part of the       world which lies in their budget.\n",
    "* Additionally, this analysis caters the needs of people who are striving to get the best cuisine of the country and which           locality of that country serves that cuisines with maximum number of restaurants.♨️"
   ]
  },
  {
   "cell_type": "code",
   "execution_count": 1,
   "id": "7d9b712d-d637-4c98-a0c0-78a6cc25411d",
   "metadata": {},
   "outputs": [],
   "source": [
    "import pandas as pd\n",
    "import numpy as np\n",
    "import seaborn as sns\n",
    "import matplotlib.pyplot as plt\n",
    "import sqlite3\n",
    "%matplotlib inline \n",
    "%load_ext sql"
   ]
  },
  {
   "cell_type": "code",
   "execution_count": 2,
   "id": "dddfc8af-c8c5-42eb-bb03-a310439e9a4a",
   "metadata": {},
   "outputs": [],
   "source": [
    "df1 = pd.read_csv(r\"C:\\Users\\P PAVAN REDDY\\Downloads\\zomato.csv\", encoding='latin-1')\n",
    "df2 = pd.read_excel(r\"C:\\Users\\P PAVAN REDDY\\Downloads\\Country-Code.xlsx\")"
   ]
  },
  {
   "cell_type": "code",
   "execution_count": 3,
   "id": "54c96bb8-67cf-433a-8d7f-6da2edfd6529",
   "metadata": {},
   "outputs": [
    {
     "data": {
      "text/html": [
       "<div>\n",
       "<style scoped>\n",
       "    .dataframe tbody tr th:only-of-type {\n",
       "        vertical-align: middle;\n",
       "    }\n",
       "\n",
       "    .dataframe tbody tr th {\n",
       "        vertical-align: top;\n",
       "    }\n",
       "\n",
       "    .dataframe thead th {\n",
       "        text-align: right;\n",
       "    }\n",
       "</style>\n",
       "<table border=\"1\" class=\"dataframe\">\n",
       "  <thead>\n",
       "    <tr style=\"text-align: right;\">\n",
       "      <th></th>\n",
       "      <th>Restaurant ID</th>\n",
       "      <th>Restaurant Name</th>\n",
       "      <th>Country Code</th>\n",
       "      <th>City</th>\n",
       "      <th>Address</th>\n",
       "      <th>Locality</th>\n",
       "      <th>Locality Verbose</th>\n",
       "      <th>Longitude</th>\n",
       "      <th>Latitude</th>\n",
       "      <th>Cuisines</th>\n",
       "      <th>...</th>\n",
       "      <th>Currency</th>\n",
       "      <th>Has Table booking</th>\n",
       "      <th>Has Online delivery</th>\n",
       "      <th>Is delivering now</th>\n",
       "      <th>Switch to order menu</th>\n",
       "      <th>Price range</th>\n",
       "      <th>Aggregate rating</th>\n",
       "      <th>Rating color</th>\n",
       "      <th>Rating text</th>\n",
       "      <th>Votes</th>\n",
       "    </tr>\n",
       "  </thead>\n",
       "  <tbody>\n",
       "    <tr>\n",
       "      <th>0</th>\n",
       "      <td>6317637</td>\n",
       "      <td>Le Petit Souffle</td>\n",
       "      <td>162</td>\n",
       "      <td>Makati City</td>\n",
       "      <td>Third Floor, Century City Mall, Kalayaan Avenu...</td>\n",
       "      <td>Century City Mall, Poblacion, Makati City</td>\n",
       "      <td>Century City Mall, Poblacion, Makati City, Mak...</td>\n",
       "      <td>121.027535</td>\n",
       "      <td>14.565443</td>\n",
       "      <td>French, Japanese, Desserts</td>\n",
       "      <td>...</td>\n",
       "      <td>Botswana Pula(P)</td>\n",
       "      <td>Yes</td>\n",
       "      <td>No</td>\n",
       "      <td>No</td>\n",
       "      <td>No</td>\n",
       "      <td>3</td>\n",
       "      <td>4.8</td>\n",
       "      <td>Dark Green</td>\n",
       "      <td>Excellent</td>\n",
       "      <td>314</td>\n",
       "    </tr>\n",
       "    <tr>\n",
       "      <th>1</th>\n",
       "      <td>6304287</td>\n",
       "      <td>Izakaya Kikufuji</td>\n",
       "      <td>162</td>\n",
       "      <td>Makati City</td>\n",
       "      <td>Little Tokyo, 2277 Chino Roces Avenue, Legaspi...</td>\n",
       "      <td>Little Tokyo, Legaspi Village, Makati City</td>\n",
       "      <td>Little Tokyo, Legaspi Village, Makati City, Ma...</td>\n",
       "      <td>121.014101</td>\n",
       "      <td>14.553708</td>\n",
       "      <td>Japanese</td>\n",
       "      <td>...</td>\n",
       "      <td>Botswana Pula(P)</td>\n",
       "      <td>Yes</td>\n",
       "      <td>No</td>\n",
       "      <td>No</td>\n",
       "      <td>No</td>\n",
       "      <td>3</td>\n",
       "      <td>4.5</td>\n",
       "      <td>Dark Green</td>\n",
       "      <td>Excellent</td>\n",
       "      <td>591</td>\n",
       "    </tr>\n",
       "    <tr>\n",
       "      <th>2</th>\n",
       "      <td>6300002</td>\n",
       "      <td>Heat - Edsa Shangri-La</td>\n",
       "      <td>162</td>\n",
       "      <td>Mandaluyong City</td>\n",
       "      <td>Edsa Shangri-La, 1 Garden Way, Ortigas, Mandal...</td>\n",
       "      <td>Edsa Shangri-La, Ortigas, Mandaluyong City</td>\n",
       "      <td>Edsa Shangri-La, Ortigas, Mandaluyong City, Ma...</td>\n",
       "      <td>121.056831</td>\n",
       "      <td>14.581404</td>\n",
       "      <td>Seafood, Asian, Filipino, Indian</td>\n",
       "      <td>...</td>\n",
       "      <td>Botswana Pula(P)</td>\n",
       "      <td>Yes</td>\n",
       "      <td>No</td>\n",
       "      <td>No</td>\n",
       "      <td>No</td>\n",
       "      <td>4</td>\n",
       "      <td>4.4</td>\n",
       "      <td>Green</td>\n",
       "      <td>Very Good</td>\n",
       "      <td>270</td>\n",
       "    </tr>\n",
       "    <tr>\n",
       "      <th>3</th>\n",
       "      <td>6318506</td>\n",
       "      <td>Ooma</td>\n",
       "      <td>162</td>\n",
       "      <td>Mandaluyong City</td>\n",
       "      <td>Third Floor, Mega Fashion Hall, SM Megamall, O...</td>\n",
       "      <td>SM Megamall, Ortigas, Mandaluyong City</td>\n",
       "      <td>SM Megamall, Ortigas, Mandaluyong City, Mandal...</td>\n",
       "      <td>121.056475</td>\n",
       "      <td>14.585318</td>\n",
       "      <td>Japanese, Sushi</td>\n",
       "      <td>...</td>\n",
       "      <td>Botswana Pula(P)</td>\n",
       "      <td>No</td>\n",
       "      <td>No</td>\n",
       "      <td>No</td>\n",
       "      <td>No</td>\n",
       "      <td>4</td>\n",
       "      <td>4.9</td>\n",
       "      <td>Dark Green</td>\n",
       "      <td>Excellent</td>\n",
       "      <td>365</td>\n",
       "    </tr>\n",
       "    <tr>\n",
       "      <th>4</th>\n",
       "      <td>6314302</td>\n",
       "      <td>Sambo Kojin</td>\n",
       "      <td>162</td>\n",
       "      <td>Mandaluyong City</td>\n",
       "      <td>Third Floor, Mega Atrium, SM Megamall, Ortigas...</td>\n",
       "      <td>SM Megamall, Ortigas, Mandaluyong City</td>\n",
       "      <td>SM Megamall, Ortigas, Mandaluyong City, Mandal...</td>\n",
       "      <td>121.057508</td>\n",
       "      <td>14.584450</td>\n",
       "      <td>Japanese, Korean</td>\n",
       "      <td>...</td>\n",
       "      <td>Botswana Pula(P)</td>\n",
       "      <td>Yes</td>\n",
       "      <td>No</td>\n",
       "      <td>No</td>\n",
       "      <td>No</td>\n",
       "      <td>4</td>\n",
       "      <td>4.8</td>\n",
       "      <td>Dark Green</td>\n",
       "      <td>Excellent</td>\n",
       "      <td>229</td>\n",
       "    </tr>\n",
       "  </tbody>\n",
       "</table>\n",
       "<p>5 rows × 21 columns</p>\n",
       "</div>"
      ],
      "text/plain": [
       "   Restaurant ID         Restaurant Name  Country Code              City  \\\n",
       "0        6317637        Le Petit Souffle           162       Makati City   \n",
       "1        6304287        Izakaya Kikufuji           162       Makati City   \n",
       "2        6300002  Heat - Edsa Shangri-La           162  Mandaluyong City   \n",
       "3        6318506                    Ooma           162  Mandaluyong City   \n",
       "4        6314302             Sambo Kojin           162  Mandaluyong City   \n",
       "\n",
       "                                             Address  \\\n",
       "0  Third Floor, Century City Mall, Kalayaan Avenu...   \n",
       "1  Little Tokyo, 2277 Chino Roces Avenue, Legaspi...   \n",
       "2  Edsa Shangri-La, 1 Garden Way, Ortigas, Mandal...   \n",
       "3  Third Floor, Mega Fashion Hall, SM Megamall, O...   \n",
       "4  Third Floor, Mega Atrium, SM Megamall, Ortigas...   \n",
       "\n",
       "                                     Locality  \\\n",
       "0   Century City Mall, Poblacion, Makati City   \n",
       "1  Little Tokyo, Legaspi Village, Makati City   \n",
       "2  Edsa Shangri-La, Ortigas, Mandaluyong City   \n",
       "3      SM Megamall, Ortigas, Mandaluyong City   \n",
       "4      SM Megamall, Ortigas, Mandaluyong City   \n",
       "\n",
       "                                    Locality Verbose   Longitude   Latitude  \\\n",
       "0  Century City Mall, Poblacion, Makati City, Mak...  121.027535  14.565443   \n",
       "1  Little Tokyo, Legaspi Village, Makati City, Ma...  121.014101  14.553708   \n",
       "2  Edsa Shangri-La, Ortigas, Mandaluyong City, Ma...  121.056831  14.581404   \n",
       "3  SM Megamall, Ortigas, Mandaluyong City, Mandal...  121.056475  14.585318   \n",
       "4  SM Megamall, Ortigas, Mandaluyong City, Mandal...  121.057508  14.584450   \n",
       "\n",
       "                           Cuisines  ...          Currency Has Table booking  \\\n",
       "0        French, Japanese, Desserts  ...  Botswana Pula(P)               Yes   \n",
       "1                          Japanese  ...  Botswana Pula(P)               Yes   \n",
       "2  Seafood, Asian, Filipino, Indian  ...  Botswana Pula(P)               Yes   \n",
       "3                   Japanese, Sushi  ...  Botswana Pula(P)                No   \n",
       "4                  Japanese, Korean  ...  Botswana Pula(P)               Yes   \n",
       "\n",
       "  Has Online delivery Is delivering now Switch to order menu Price range  \\\n",
       "0                  No                No                   No           3   \n",
       "1                  No                No                   No           3   \n",
       "2                  No                No                   No           4   \n",
       "3                  No                No                   No           4   \n",
       "4                  No                No                   No           4   \n",
       "\n",
       "   Aggregate rating  Rating color Rating text Votes  \n",
       "0               4.8    Dark Green   Excellent   314  \n",
       "1               4.5    Dark Green   Excellent   591  \n",
       "2               4.4         Green   Very Good   270  \n",
       "3               4.9    Dark Green   Excellent   365  \n",
       "4               4.8    Dark Green   Excellent   229  \n",
       "\n",
       "[5 rows x 21 columns]"
      ]
     },
     "execution_count": 3,
     "metadata": {},
     "output_type": "execute_result"
    }
   ],
   "source": [
    "df1.head()"
   ]
  },
  {
   "cell_type": "code",
   "execution_count": 4,
   "id": "90a39abc-2d45-40b6-aba7-a60ef7709e56",
   "metadata": {},
   "outputs": [
    {
     "data": {
      "text/html": [
       "<div>\n",
       "<style scoped>\n",
       "    .dataframe tbody tr th:only-of-type {\n",
       "        vertical-align: middle;\n",
       "    }\n",
       "\n",
       "    .dataframe tbody tr th {\n",
       "        vertical-align: top;\n",
       "    }\n",
       "\n",
       "    .dataframe thead th {\n",
       "        text-align: right;\n",
       "    }\n",
       "</style>\n",
       "<table border=\"1\" class=\"dataframe\">\n",
       "  <thead>\n",
       "    <tr style=\"text-align: right;\">\n",
       "      <th></th>\n",
       "      <th>Restaurant ID</th>\n",
       "      <th>Restaurant Name</th>\n",
       "      <th>Country Code</th>\n",
       "      <th>City</th>\n",
       "      <th>Address</th>\n",
       "      <th>Locality</th>\n",
       "      <th>Locality Verbose</th>\n",
       "      <th>Longitude</th>\n",
       "      <th>Latitude</th>\n",
       "      <th>Cuisines</th>\n",
       "      <th>...</th>\n",
       "      <th>Currency</th>\n",
       "      <th>Has Table booking</th>\n",
       "      <th>Has Online delivery</th>\n",
       "      <th>Is delivering now</th>\n",
       "      <th>Switch to order menu</th>\n",
       "      <th>Price range</th>\n",
       "      <th>Aggregate rating</th>\n",
       "      <th>Rating color</th>\n",
       "      <th>Rating text</th>\n",
       "      <th>Votes</th>\n",
       "    </tr>\n",
       "  </thead>\n",
       "  <tbody>\n",
       "    <tr>\n",
       "      <th>2095</th>\n",
       "      <td>18458345</td>\n",
       "      <td>Shri Ram Bhojnalaya</td>\n",
       "      <td>1</td>\n",
       "      <td>Gurgaon</td>\n",
       "      <td>Shop 6, Vohra Market, South City 2, Gurgaon</td>\n",
       "      <td>South City 2</td>\n",
       "      <td>South City 2, Gurgaon</td>\n",
       "      <td>77.078993</td>\n",
       "      <td>28.434663</td>\n",
       "      <td>North Indian</td>\n",
       "      <td>...</td>\n",
       "      <td>Indian Rupees(Rs.)</td>\n",
       "      <td>No</td>\n",
       "      <td>No</td>\n",
       "      <td>No</td>\n",
       "      <td>No</td>\n",
       "      <td>1</td>\n",
       "      <td>0.0</td>\n",
       "      <td>White</td>\n",
       "      <td>Not rated</td>\n",
       "      <td>0</td>\n",
       "    </tr>\n",
       "    <tr>\n",
       "      <th>6571</th>\n",
       "      <td>300300</td>\n",
       "      <td>Mama's Chinese Kitchen</td>\n",
       "      <td>1</td>\n",
       "      <td>New Delhi</td>\n",
       "      <td>4/52, Main Shankar Road, Old Rajinder Nagar, R...</td>\n",
       "      <td>Rajinder Nagar</td>\n",
       "      <td>Rajinder Nagar, New Delhi</td>\n",
       "      <td>77.181998</td>\n",
       "      <td>28.637498</td>\n",
       "      <td>Chinese</td>\n",
       "      <td>...</td>\n",
       "      <td>Indian Rupees(Rs.)</td>\n",
       "      <td>No</td>\n",
       "      <td>No</td>\n",
       "      <td>No</td>\n",
       "      <td>No</td>\n",
       "      <td>2</td>\n",
       "      <td>3.0</td>\n",
       "      <td>Orange</td>\n",
       "      <td>Average</td>\n",
       "      <td>58</td>\n",
       "    </tr>\n",
       "    <tr>\n",
       "      <th>7098</th>\n",
       "      <td>18291454</td>\n",
       "      <td>Chowranghee</td>\n",
       "      <td>1</td>\n",
       "      <td>New Delhi</td>\n",
       "      <td>C-1, Main Market, Naveen Shahdara, Shahdara, N...</td>\n",
       "      <td>Shahdara</td>\n",
       "      <td>Shahdara, New Delhi</td>\n",
       "      <td>77.285706</td>\n",
       "      <td>28.676485</td>\n",
       "      <td>Fast Food</td>\n",
       "      <td>...</td>\n",
       "      <td>Indian Rupees(Rs.)</td>\n",
       "      <td>No</td>\n",
       "      <td>No</td>\n",
       "      <td>No</td>\n",
       "      <td>No</td>\n",
       "      <td>1</td>\n",
       "      <td>2.9</td>\n",
       "      <td>Orange</td>\n",
       "      <td>Average</td>\n",
       "      <td>4</td>\n",
       "    </tr>\n",
       "    <tr>\n",
       "      <th>3108</th>\n",
       "      <td>309859</td>\n",
       "      <td>Pebble Street</td>\n",
       "      <td>1</td>\n",
       "      <td>New Delhi</td>\n",
       "      <td>61-62, N Block, Outer Circle, Connaught Place,...</td>\n",
       "      <td>Connaught Place</td>\n",
       "      <td>Connaught Place, New Delhi</td>\n",
       "      <td>77.220442</td>\n",
       "      <td>28.630243</td>\n",
       "      <td>Italian, Mexican, Continental, North Indian, F...</td>\n",
       "      <td>...</td>\n",
       "      <td>Indian Rupees(Rs.)</td>\n",
       "      <td>Yes</td>\n",
       "      <td>Yes</td>\n",
       "      <td>No</td>\n",
       "      <td>No</td>\n",
       "      <td>3</td>\n",
       "      <td>4.0</td>\n",
       "      <td>Green</td>\n",
       "      <td>Very Good</td>\n",
       "      <td>817</td>\n",
       "    </tr>\n",
       "    <tr>\n",
       "      <th>836</th>\n",
       "      <td>3000770</td>\n",
       "      <td>Cafe Totaram</td>\n",
       "      <td>1</td>\n",
       "      <td>Coimbatore</td>\n",
       "      <td>245/1, Near Veejay Hall, Raheja Apartment, Rac...</td>\n",
       "      <td>Race Course</td>\n",
       "      <td>Race Course, Coimbatore</td>\n",
       "      <td>76.981876</td>\n",
       "      <td>11.000762</td>\n",
       "      <td>Cafe, Fast Food</td>\n",
       "      <td>...</td>\n",
       "      <td>Indian Rupees(Rs.)</td>\n",
       "      <td>No</td>\n",
       "      <td>Yes</td>\n",
       "      <td>No</td>\n",
       "      <td>No</td>\n",
       "      <td>2</td>\n",
       "      <td>4.0</td>\n",
       "      <td>Green</td>\n",
       "      <td>Very Good</td>\n",
       "      <td>132</td>\n",
       "    </tr>\n",
       "    <tr>\n",
       "      <th>4835</th>\n",
       "      <td>307283</td>\n",
       "      <td>Oberoi's</td>\n",
       "      <td>1</td>\n",
       "      <td>New Delhi</td>\n",
       "      <td>D-166, Shop 3, Near Railway Crossing, Lajpat N...</td>\n",
       "      <td>Lajpat Nagar 1</td>\n",
       "      <td>Lajpat Nagar 1, New Delhi</td>\n",
       "      <td>77.238704</td>\n",
       "      <td>28.577483</td>\n",
       "      <td>North Indian</td>\n",
       "      <td>...</td>\n",
       "      <td>Indian Rupees(Rs.)</td>\n",
       "      <td>No</td>\n",
       "      <td>Yes</td>\n",
       "      <td>No</td>\n",
       "      <td>No</td>\n",
       "      <td>2</td>\n",
       "      <td>3.6</td>\n",
       "      <td>Yellow</td>\n",
       "      <td>Good</td>\n",
       "      <td>75</td>\n",
       "    </tr>\n",
       "    <tr>\n",
       "      <th>1172</th>\n",
       "      <td>18291229</td>\n",
       "      <td>Achoos Food Corner</td>\n",
       "      <td>1</td>\n",
       "      <td>Gurgaon</td>\n",
       "      <td>Vohra Market, Near Government School, Ardee Ci...</td>\n",
       "      <td>Ardee City</td>\n",
       "      <td>Ardee City, Gurgaon</td>\n",
       "      <td>77.078768</td>\n",
       "      <td>28.434728</td>\n",
       "      <td>South Indian, Chinese, Mughlai</td>\n",
       "      <td>...</td>\n",
       "      <td>Indian Rupees(Rs.)</td>\n",
       "      <td>No</td>\n",
       "      <td>No</td>\n",
       "      <td>No</td>\n",
       "      <td>No</td>\n",
       "      <td>1</td>\n",
       "      <td>0.0</td>\n",
       "      <td>White</td>\n",
       "      <td>Not rated</td>\n",
       "      <td>0</td>\n",
       "    </tr>\n",
       "    <tr>\n",
       "      <th>4950</th>\n",
       "      <td>18421464</td>\n",
       "      <td>Omi Pizza</td>\n",
       "      <td>1</td>\n",
       "      <td>New Delhi</td>\n",
       "      <td>D 3/93, Near Laxmi Nagar Metro Station, Laxmi ...</td>\n",
       "      <td>Laxmi Nagar</td>\n",
       "      <td>Laxmi Nagar, New Delhi</td>\n",
       "      <td>77.276253</td>\n",
       "      <td>28.630224</td>\n",
       "      <td>Fast Food</td>\n",
       "      <td>...</td>\n",
       "      <td>Indian Rupees(Rs.)</td>\n",
       "      <td>No</td>\n",
       "      <td>No</td>\n",
       "      <td>No</td>\n",
       "      <td>No</td>\n",
       "      <td>1</td>\n",
       "      <td>0.0</td>\n",
       "      <td>White</td>\n",
       "      <td>Not rated</td>\n",
       "      <td>0</td>\n",
       "    </tr>\n",
       "    <tr>\n",
       "      <th>4604</th>\n",
       "      <td>305758</td>\n",
       "      <td>Glenz Cafe N Bakers</td>\n",
       "      <td>1</td>\n",
       "      <td>New Delhi</td>\n",
       "      <td>5/2, WEA, Saraswati Marg, Opposite Swati Hotel...</td>\n",
       "      <td>Karol Bagh</td>\n",
       "      <td>Karol Bagh, New Delhi</td>\n",
       "      <td>77.188550</td>\n",
       "      <td>28.647175</td>\n",
       "      <td>Cafe, Fast Food, Desserts</td>\n",
       "      <td>...</td>\n",
       "      <td>Indian Rupees(Rs.)</td>\n",
       "      <td>No</td>\n",
       "      <td>Yes</td>\n",
       "      <td>No</td>\n",
       "      <td>No</td>\n",
       "      <td>2</td>\n",
       "      <td>3.8</td>\n",
       "      <td>Yellow</td>\n",
       "      <td>Good</td>\n",
       "      <td>230</td>\n",
       "    </tr>\n",
       "    <tr>\n",
       "      <th>845</th>\n",
       "      <td>3500012</td>\n",
       "      <td>The Punjabi Essence Restaurant</td>\n",
       "      <td>1</td>\n",
       "      <td>Dehradun</td>\n",
       "      <td>27 B, Near Premier Plaza, Rajpur Road, Chukkuw...</td>\n",
       "      <td>Chukkuwala</td>\n",
       "      <td>Chukkuwala, Dehradun</td>\n",
       "      <td>0.000000</td>\n",
       "      <td>0.000000</td>\n",
       "      <td>North Indian, Chinese</td>\n",
       "      <td>...</td>\n",
       "      <td>Indian Rupees(Rs.)</td>\n",
       "      <td>No</td>\n",
       "      <td>No</td>\n",
       "      <td>No</td>\n",
       "      <td>No</td>\n",
       "      <td>3</td>\n",
       "      <td>3.6</td>\n",
       "      <td>Yellow</td>\n",
       "      <td>Good</td>\n",
       "      <td>102</td>\n",
       "    </tr>\n",
       "  </tbody>\n",
       "</table>\n",
       "<p>10 rows × 21 columns</p>\n",
       "</div>"
      ],
      "text/plain": [
       "      Restaurant ID                 Restaurant Name  Country Code        City  \\\n",
       "2095       18458345             Shri Ram Bhojnalaya             1     Gurgaon   \n",
       "6571         300300          Mama's Chinese Kitchen             1   New Delhi   \n",
       "7098       18291454                     Chowranghee             1   New Delhi   \n",
       "3108         309859                   Pebble Street             1   New Delhi   \n",
       "836         3000770                    Cafe Totaram             1  Coimbatore   \n",
       "4835         307283                        Oberoi's             1   New Delhi   \n",
       "1172       18291229              Achoos Food Corner             1     Gurgaon   \n",
       "4950       18421464                       Omi Pizza             1   New Delhi   \n",
       "4604         305758             Glenz Cafe N Bakers             1   New Delhi   \n",
       "845         3500012  The Punjabi Essence Restaurant             1    Dehradun   \n",
       "\n",
       "                                                Address         Locality  \\\n",
       "2095        Shop 6, Vohra Market, South City 2, Gurgaon     South City 2   \n",
       "6571  4/52, Main Shankar Road, Old Rajinder Nagar, R...   Rajinder Nagar   \n",
       "7098  C-1, Main Market, Naveen Shahdara, Shahdara, N...         Shahdara   \n",
       "3108  61-62, N Block, Outer Circle, Connaught Place,...  Connaught Place   \n",
       "836   245/1, Near Veejay Hall, Raheja Apartment, Rac...      Race Course   \n",
       "4835  D-166, Shop 3, Near Railway Crossing, Lajpat N...   Lajpat Nagar 1   \n",
       "1172  Vohra Market, Near Government School, Ardee Ci...       Ardee City   \n",
       "4950  D 3/93, Near Laxmi Nagar Metro Station, Laxmi ...      Laxmi Nagar   \n",
       "4604  5/2, WEA, Saraswati Marg, Opposite Swati Hotel...       Karol Bagh   \n",
       "845   27 B, Near Premier Plaza, Rajpur Road, Chukkuw...       Chukkuwala   \n",
       "\n",
       "                Locality Verbose  Longitude   Latitude  \\\n",
       "2095       South City 2, Gurgaon  77.078993  28.434663   \n",
       "6571   Rajinder Nagar, New Delhi  77.181998  28.637498   \n",
       "7098         Shahdara, New Delhi  77.285706  28.676485   \n",
       "3108  Connaught Place, New Delhi  77.220442  28.630243   \n",
       "836      Race Course, Coimbatore  76.981876  11.000762   \n",
       "4835   Lajpat Nagar 1, New Delhi  77.238704  28.577483   \n",
       "1172         Ardee City, Gurgaon  77.078768  28.434728   \n",
       "4950      Laxmi Nagar, New Delhi  77.276253  28.630224   \n",
       "4604       Karol Bagh, New Delhi  77.188550  28.647175   \n",
       "845         Chukkuwala, Dehradun   0.000000   0.000000   \n",
       "\n",
       "                                               Cuisines  ...  \\\n",
       "2095                                       North Indian  ...   \n",
       "6571                                            Chinese  ...   \n",
       "7098                                          Fast Food  ...   \n",
       "3108  Italian, Mexican, Continental, North Indian, F...  ...   \n",
       "836                                     Cafe, Fast Food  ...   \n",
       "4835                                       North Indian  ...   \n",
       "1172                     South Indian, Chinese, Mughlai  ...   \n",
       "4950                                          Fast Food  ...   \n",
       "4604                          Cafe, Fast Food, Desserts  ...   \n",
       "845                               North Indian, Chinese  ...   \n",
       "\n",
       "                Currency Has Table booking Has Online delivery  \\\n",
       "2095  Indian Rupees(Rs.)                No                  No   \n",
       "6571  Indian Rupees(Rs.)                No                  No   \n",
       "7098  Indian Rupees(Rs.)                No                  No   \n",
       "3108  Indian Rupees(Rs.)               Yes                 Yes   \n",
       "836   Indian Rupees(Rs.)                No                 Yes   \n",
       "4835  Indian Rupees(Rs.)                No                 Yes   \n",
       "1172  Indian Rupees(Rs.)                No                  No   \n",
       "4950  Indian Rupees(Rs.)                No                  No   \n",
       "4604  Indian Rupees(Rs.)                No                 Yes   \n",
       "845   Indian Rupees(Rs.)                No                  No   \n",
       "\n",
       "     Is delivering now Switch to order menu Price range  Aggregate rating  \\\n",
       "2095                No                   No           1               0.0   \n",
       "6571                No                   No           2               3.0   \n",
       "7098                No                   No           1               2.9   \n",
       "3108                No                   No           3               4.0   \n",
       "836                 No                   No           2               4.0   \n",
       "4835                No                   No           2               3.6   \n",
       "1172                No                   No           1               0.0   \n",
       "4950                No                   No           1               0.0   \n",
       "4604                No                   No           2               3.8   \n",
       "845                 No                   No           3               3.6   \n",
       "\n",
       "      Rating color Rating text Votes  \n",
       "2095         White   Not rated     0  \n",
       "6571        Orange     Average    58  \n",
       "7098        Orange     Average     4  \n",
       "3108         Green   Very Good   817  \n",
       "836          Green   Very Good   132  \n",
       "4835        Yellow        Good    75  \n",
       "1172         White   Not rated     0  \n",
       "4950         White   Not rated     0  \n",
       "4604        Yellow        Good   230  \n",
       "845         Yellow        Good   102  \n",
       "\n",
       "[10 rows x 21 columns]"
      ]
     },
     "execution_count": 4,
     "metadata": {},
     "output_type": "execute_result"
    }
   ],
   "source": [
    "df1.sample(10)"
   ]
  },
  {
   "cell_type": "code",
   "execution_count": 5,
   "id": "bcc7fbbd-bdd9-479b-83fb-42a43ef79b39",
   "metadata": {},
   "outputs": [
    {
     "data": {
      "text/html": [
       "<div>\n",
       "<style scoped>\n",
       "    .dataframe tbody tr th:only-of-type {\n",
       "        vertical-align: middle;\n",
       "    }\n",
       "\n",
       "    .dataframe tbody tr th {\n",
       "        vertical-align: top;\n",
       "    }\n",
       "\n",
       "    .dataframe thead th {\n",
       "        text-align: right;\n",
       "    }\n",
       "</style>\n",
       "<table border=\"1\" class=\"dataframe\">\n",
       "  <thead>\n",
       "    <tr style=\"text-align: right;\">\n",
       "      <th></th>\n",
       "      <th>Country Code</th>\n",
       "      <th>Country</th>\n",
       "    </tr>\n",
       "  </thead>\n",
       "  <tbody>\n",
       "    <tr>\n",
       "      <th>0</th>\n",
       "      <td>1</td>\n",
       "      <td>India</td>\n",
       "    </tr>\n",
       "    <tr>\n",
       "      <th>1</th>\n",
       "      <td>14</td>\n",
       "      <td>Australia</td>\n",
       "    </tr>\n",
       "    <tr>\n",
       "      <th>2</th>\n",
       "      <td>30</td>\n",
       "      <td>Brazil</td>\n",
       "    </tr>\n",
       "    <tr>\n",
       "      <th>3</th>\n",
       "      <td>37</td>\n",
       "      <td>Canada</td>\n",
       "    </tr>\n",
       "    <tr>\n",
       "      <th>4</th>\n",
       "      <td>94</td>\n",
       "      <td>Indonesia</td>\n",
       "    </tr>\n",
       "  </tbody>\n",
       "</table>\n",
       "</div>"
      ],
      "text/plain": [
       "   Country Code    Country\n",
       "0             1      India\n",
       "1            14  Australia\n",
       "2            30     Brazil\n",
       "3            37     Canada\n",
       "4            94  Indonesia"
      ]
     },
     "execution_count": 5,
     "metadata": {},
     "output_type": "execute_result"
    }
   ],
   "source": [
    "df2.head()"
   ]
  },
  {
   "cell_type": "code",
   "execution_count": 6,
   "id": "e7e219f4-250d-4853-878a-8bf865f4ee4f",
   "metadata": {},
   "outputs": [
    {
     "data": {
      "text/html": [
       "<div>\n",
       "<style scoped>\n",
       "    .dataframe tbody tr th:only-of-type {\n",
       "        vertical-align: middle;\n",
       "    }\n",
       "\n",
       "    .dataframe tbody tr th {\n",
       "        vertical-align: top;\n",
       "    }\n",
       "\n",
       "    .dataframe thead th {\n",
       "        text-align: right;\n",
       "    }\n",
       "</style>\n",
       "<table border=\"1\" class=\"dataframe\">\n",
       "  <thead>\n",
       "    <tr style=\"text-align: right;\">\n",
       "      <th></th>\n",
       "      <th>Country Code</th>\n",
       "      <th>Country</th>\n",
       "    </tr>\n",
       "  </thead>\n",
       "  <tbody>\n",
       "    <tr>\n",
       "      <th>5</th>\n",
       "      <td>148</td>\n",
       "      <td>New Zealand</td>\n",
       "    </tr>\n",
       "    <tr>\n",
       "      <th>3</th>\n",
       "      <td>37</td>\n",
       "      <td>Canada</td>\n",
       "    </tr>\n",
       "    <tr>\n",
       "      <th>7</th>\n",
       "      <td>166</td>\n",
       "      <td>Qatar</td>\n",
       "    </tr>\n",
       "    <tr>\n",
       "      <th>2</th>\n",
       "      <td>30</td>\n",
       "      <td>Brazil</td>\n",
       "    </tr>\n",
       "    <tr>\n",
       "      <th>9</th>\n",
       "      <td>189</td>\n",
       "      <td>South Africa</td>\n",
       "    </tr>\n",
       "    <tr>\n",
       "      <th>4</th>\n",
       "      <td>94</td>\n",
       "      <td>Indonesia</td>\n",
       "    </tr>\n",
       "    <tr>\n",
       "      <th>1</th>\n",
       "      <td>14</td>\n",
       "      <td>Australia</td>\n",
       "    </tr>\n",
       "    <tr>\n",
       "      <th>12</th>\n",
       "      <td>214</td>\n",
       "      <td>UAE</td>\n",
       "    </tr>\n",
       "    <tr>\n",
       "      <th>13</th>\n",
       "      <td>215</td>\n",
       "      <td>United Kingdom</td>\n",
       "    </tr>\n",
       "    <tr>\n",
       "      <th>6</th>\n",
       "      <td>162</td>\n",
       "      <td>Phillipines</td>\n",
       "    </tr>\n",
       "  </tbody>\n",
       "</table>\n",
       "</div>"
      ],
      "text/plain": [
       "    Country Code         Country\n",
       "5            148     New Zealand\n",
       "3             37          Canada\n",
       "7            166           Qatar\n",
       "2             30          Brazil\n",
       "9            189    South Africa\n",
       "4             94       Indonesia\n",
       "1             14       Australia\n",
       "12           214             UAE\n",
       "13           215  United Kingdom\n",
       "6            162     Phillipines"
      ]
     },
     "execution_count": 6,
     "metadata": {},
     "output_type": "execute_result"
    }
   ],
   "source": [
    "df2.sample(10)"
   ]
  },
  {
   "cell_type": "markdown",
   "id": "1682f94f-de0e-410c-9564-339e4e60ebcb",
   "metadata": {
    "tags": []
   },
   "source": [
    "# Features and their description\n",
    "\n",
    "### Restaurants dataset\n",
    "* Restaurant Id: Unique id of every restaurant across various cities of the world\n",
    "* Restaurant Name: Name of the restaurant\n",
    "* Country Code: Country in which restaurant is located\n",
    "* City: City in which restaurant is located\n",
    "* Address: Address of the restaurant\n",
    "* Locality: Location in the city\n",
    "* Locality Verbose: Detailed description of the locality\n",
    "* Longitude: Longitude coordinate of the restaurant's location\n",
    "* Latitude: Latitude coordinate of the restaurant's location\n",
    "* Cuisines: Cuisines offered by the restaurant\n",
    "* Average Cost for two: Cost for two people in different currencies 👫\n",
    "* Currency: Currency of the country\n",
    "* Has Table booking: yes/no\n",
    "* Has Online delivery: yes/ no\n",
    "* Is delivering: yes/ no\n",
    "* Switch to order menu: yes/no\n",
    "* Price range: range of price of food\n",
    "* Aggregate Rating: Average rating out of 5\n",
    "* Rating color: depending upon the average rating color\n",
    "* Rating text: text on the basis of rating of rating\n",
    "* Votes: Number of ratings casted by people\n",
    "\n",
    "### country-code data set\n",
    "* Country Code: Country in which restaurant is located\n",
    "* Country : Name of the country"
   ]
  },
  {
   "cell_type": "code",
   "execution_count": 7,
   "id": "ce04b9ad-9ccb-471d-bb86-7bc933132f7a",
   "metadata": {},
   "outputs": [
    {
     "data": {
      "text/plain": [
       "Index(['Restaurant ID', 'Restaurant Name', 'Country Code', 'City', 'Address',\n",
       "       'Locality', 'Locality Verbose', 'Longitude', 'Latitude', 'Cuisines',\n",
       "       'Average Cost for two', 'Currency', 'Has Table booking',\n",
       "       'Has Online delivery', 'Is delivering now', 'Switch to order menu',\n",
       "       'Price range', 'Aggregate rating', 'Rating color', 'Rating text',\n",
       "       'Votes'],\n",
       "      dtype='object')"
      ]
     },
     "execution_count": 7,
     "metadata": {},
     "output_type": "execute_result"
    }
   ],
   "source": [
    "df1.columns"
   ]
  },
  {
   "cell_type": "code",
   "execution_count": 8,
   "id": "49ab6ff9-1bf0-4e2d-a1a1-e2e2ae53d75c",
   "metadata": {},
   "outputs": [
    {
     "data": {
      "text/plain": [
       "(9551, 21)"
      ]
     },
     "execution_count": 8,
     "metadata": {},
     "output_type": "execute_result"
    }
   ],
   "source": [
    "#size of a dataset\n",
    "df1.shape # 9551 rows , 21 colums"
   ]
  },
  {
   "cell_type": "markdown",
   "id": "03f1ee5b-cf64-4765-a290-a315aa2cd717",
   "metadata": {},
   "source": [
    "## Quality Issues \n",
    "\n",
    "- <b>Counrty Code</b> : feature has only codes and country names are in another data set. so, let's merge the Country-Code data set -\n",
    "- <b>Counrty Code</b> : let's change the data type to object - \n",
    "- <b>Address</b> : In this single feature so many details are there about address of restaurant which is not required. And Locality is an useful for address. -\n",
    "- <b>Locality Verbose</b> : It has locality and city in each which is not useful as we have t20 separate columns for locality and city. - \n",
    "- <b>Restaurant ID</b> : It is of int64 data type but, it should be object data type. -\n",
    "- <b>Cuisines</b> : There are 9 null values. - \n",
    "- <b>Switch to order menu</b> : since all the values in 'Switch to order menu' feature are 'No', we drop the feature. -\n",
    "- <b>Cuisines</b> : there are some repeated Cuisines with added white spaces to them -\n",
    "## Tidiness Issues\n",
    "\n",
    "- <b>Cuisines</b> : more than one cuisine(dish) in a single cell of rows in this feature. -\n",
    "- <b>Locality</b> : has more than 1 detail about Locality with ',' separated and city is also present -\n"
   ]
  },
  {
   "cell_type": "code",
   "execution_count": 9,
   "id": "bb9f98d3-ede8-4be5-a3c4-8bee533aeff3",
   "metadata": {},
   "outputs": [
    {
     "name": "stdout",
     "output_type": "stream",
     "text": [
      "<class 'pandas.core.frame.DataFrame'>\n",
      "RangeIndex: 9551 entries, 0 to 9550\n",
      "Data columns (total 21 columns):\n",
      " #   Column                Non-Null Count  Dtype  \n",
      "---  ------                --------------  -----  \n",
      " 0   Restaurant ID         9551 non-null   int64  \n",
      " 1   Restaurant Name       9551 non-null   object \n",
      " 2   Country Code          9551 non-null   int64  \n",
      " 3   City                  9551 non-null   object \n",
      " 4   Address               9551 non-null   object \n",
      " 5   Locality              9551 non-null   object \n",
      " 6   Locality Verbose      9551 non-null   object \n",
      " 7   Longitude             9551 non-null   float64\n",
      " 8   Latitude              9551 non-null   float64\n",
      " 9   Cuisines              9542 non-null   object \n",
      " 10  Average Cost for two  9551 non-null   int64  \n",
      " 11  Currency              9551 non-null   object \n",
      " 12  Has Table booking     9551 non-null   object \n",
      " 13  Has Online delivery   9551 non-null   object \n",
      " 14  Is delivering now     9551 non-null   object \n",
      " 15  Switch to order menu  9551 non-null   object \n",
      " 16  Price range           9551 non-null   int64  \n",
      " 17  Aggregate rating      9551 non-null   float64\n",
      " 18  Rating color          9551 non-null   object \n",
      " 19  Rating text           9551 non-null   object \n",
      " 20  Votes                 9551 non-null   int64  \n",
      "dtypes: float64(3), int64(5), object(13)\n",
      "memory usage: 1.5+ MB\n"
     ]
    }
   ],
   "source": [
    "df1.info()"
   ]
  },
  {
   "cell_type": "code",
   "execution_count": 10,
   "id": "b59cdad8-438f-4240-9cb1-97a66ce9004f",
   "metadata": {},
   "outputs": [
    {
     "data": {
      "text/plain": [
       "Restaurant ID           0\n",
       "Restaurant Name         0\n",
       "Country Code            0\n",
       "City                    0\n",
       "Address                 0\n",
       "Locality                0\n",
       "Locality Verbose        0\n",
       "Longitude               0\n",
       "Latitude                0\n",
       "Cuisines                9\n",
       "Average Cost for two    0\n",
       "Currency                0\n",
       "Has Table booking       0\n",
       "Has Online delivery     0\n",
       "Is delivering now       0\n",
       "Switch to order menu    0\n",
       "Price range             0\n",
       "Aggregate rating        0\n",
       "Rating color            0\n",
       "Rating text             0\n",
       "Votes                   0\n",
       "dtype: int64"
      ]
     },
     "execution_count": 10,
     "metadata": {},
     "output_type": "execute_result"
    }
   ],
   "source": [
    "df1.isnull().sum()"
   ]
  },
  {
   "cell_type": "code",
   "execution_count": 11,
   "id": "79202639-f1ab-4330-99ad-67846fe60f2b",
   "metadata": {},
   "outputs": [
    {
     "name": "stdout",
     "output_type": "stream",
     "text": [
      "<class 'pandas.core.frame.DataFrame'>\n",
      "RangeIndex: 15 entries, 0 to 14\n",
      "Data columns (total 2 columns):\n",
      " #   Column        Non-Null Count  Dtype \n",
      "---  ------        --------------  ----- \n",
      " 0   Country Code  15 non-null     int64 \n",
      " 1   Country       15 non-null     object\n",
      "dtypes: int64(1), object(1)\n",
      "memory usage: 368.0+ bytes\n"
     ]
    }
   ],
   "source": [
    "df2.info()"
   ]
  },
  {
   "cell_type": "markdown",
   "id": "6d6d2c25-ae91-44e8-9f37-da89ef7f309b",
   "metadata": {},
   "source": [
    "##### Descriptive statistics of numerical features"
   ]
  },
  {
   "cell_type": "code",
   "execution_count": 12,
   "id": "5388826f-bb70-4cc9-a370-c4fba3c538ce",
   "metadata": {},
   "outputs": [
    {
     "data": {
      "text/html": [
       "<div>\n",
       "<style scoped>\n",
       "    .dataframe tbody tr th:only-of-type {\n",
       "        vertical-align: middle;\n",
       "    }\n",
       "\n",
       "    .dataframe tbody tr th {\n",
       "        vertical-align: top;\n",
       "    }\n",
       "\n",
       "    .dataframe thead th {\n",
       "        text-align: right;\n",
       "    }\n",
       "</style>\n",
       "<table border=\"1\" class=\"dataframe\">\n",
       "  <thead>\n",
       "    <tr style=\"text-align: right;\">\n",
       "      <th></th>\n",
       "      <th>Restaurant ID</th>\n",
       "      <th>Country Code</th>\n",
       "      <th>Longitude</th>\n",
       "      <th>Latitude</th>\n",
       "      <th>Average Cost for two</th>\n",
       "      <th>Price range</th>\n",
       "      <th>Aggregate rating</th>\n",
       "      <th>Votes</th>\n",
       "    </tr>\n",
       "  </thead>\n",
       "  <tbody>\n",
       "    <tr>\n",
       "      <th>count</th>\n",
       "      <td>9.551000e+03</td>\n",
       "      <td>9551.000000</td>\n",
       "      <td>9551.000000</td>\n",
       "      <td>9551.000000</td>\n",
       "      <td>9551.000000</td>\n",
       "      <td>9551.000000</td>\n",
       "      <td>9551.000000</td>\n",
       "      <td>9551.000000</td>\n",
       "    </tr>\n",
       "    <tr>\n",
       "      <th>mean</th>\n",
       "      <td>9.051128e+06</td>\n",
       "      <td>18.365616</td>\n",
       "      <td>64.126574</td>\n",
       "      <td>25.854381</td>\n",
       "      <td>1199.210763</td>\n",
       "      <td>1.804837</td>\n",
       "      <td>2.666370</td>\n",
       "      <td>156.909748</td>\n",
       "    </tr>\n",
       "    <tr>\n",
       "      <th>std</th>\n",
       "      <td>8.791521e+06</td>\n",
       "      <td>56.750546</td>\n",
       "      <td>41.467058</td>\n",
       "      <td>11.007935</td>\n",
       "      <td>16121.183073</td>\n",
       "      <td>0.905609</td>\n",
       "      <td>1.516378</td>\n",
       "      <td>430.169145</td>\n",
       "    </tr>\n",
       "    <tr>\n",
       "      <th>min</th>\n",
       "      <td>5.300000e+01</td>\n",
       "      <td>1.000000</td>\n",
       "      <td>-157.948486</td>\n",
       "      <td>-41.330428</td>\n",
       "      <td>0.000000</td>\n",
       "      <td>1.000000</td>\n",
       "      <td>0.000000</td>\n",
       "      <td>0.000000</td>\n",
       "    </tr>\n",
       "    <tr>\n",
       "      <th>25%</th>\n",
       "      <td>3.019625e+05</td>\n",
       "      <td>1.000000</td>\n",
       "      <td>77.081343</td>\n",
       "      <td>28.478713</td>\n",
       "      <td>250.000000</td>\n",
       "      <td>1.000000</td>\n",
       "      <td>2.500000</td>\n",
       "      <td>5.000000</td>\n",
       "    </tr>\n",
       "    <tr>\n",
       "      <th>50%</th>\n",
       "      <td>6.004089e+06</td>\n",
       "      <td>1.000000</td>\n",
       "      <td>77.191964</td>\n",
       "      <td>28.570469</td>\n",
       "      <td>400.000000</td>\n",
       "      <td>2.000000</td>\n",
       "      <td>3.200000</td>\n",
       "      <td>31.000000</td>\n",
       "    </tr>\n",
       "    <tr>\n",
       "      <th>75%</th>\n",
       "      <td>1.835229e+07</td>\n",
       "      <td>1.000000</td>\n",
       "      <td>77.282006</td>\n",
       "      <td>28.642758</td>\n",
       "      <td>700.000000</td>\n",
       "      <td>2.000000</td>\n",
       "      <td>3.700000</td>\n",
       "      <td>131.000000</td>\n",
       "    </tr>\n",
       "    <tr>\n",
       "      <th>max</th>\n",
       "      <td>1.850065e+07</td>\n",
       "      <td>216.000000</td>\n",
       "      <td>174.832089</td>\n",
       "      <td>55.976980</td>\n",
       "      <td>800000.000000</td>\n",
       "      <td>4.000000</td>\n",
       "      <td>4.900000</td>\n",
       "      <td>10934.000000</td>\n",
       "    </tr>\n",
       "  </tbody>\n",
       "</table>\n",
       "</div>"
      ],
      "text/plain": [
       "       Restaurant ID  Country Code    Longitude     Latitude  \\\n",
       "count   9.551000e+03   9551.000000  9551.000000  9551.000000   \n",
       "mean    9.051128e+06     18.365616    64.126574    25.854381   \n",
       "std     8.791521e+06     56.750546    41.467058    11.007935   \n",
       "min     5.300000e+01      1.000000  -157.948486   -41.330428   \n",
       "25%     3.019625e+05      1.000000    77.081343    28.478713   \n",
       "50%     6.004089e+06      1.000000    77.191964    28.570469   \n",
       "75%     1.835229e+07      1.000000    77.282006    28.642758   \n",
       "max     1.850065e+07    216.000000   174.832089    55.976980   \n",
       "\n",
       "       Average Cost for two  Price range  Aggregate rating         Votes  \n",
       "count           9551.000000  9551.000000       9551.000000   9551.000000  \n",
       "mean            1199.210763     1.804837          2.666370    156.909748  \n",
       "std            16121.183073     0.905609          1.516378    430.169145  \n",
       "min                0.000000     1.000000          0.000000      0.000000  \n",
       "25%              250.000000     1.000000          2.500000      5.000000  \n",
       "50%              400.000000     2.000000          3.200000     31.000000  \n",
       "75%              700.000000     2.000000          3.700000    131.000000  \n",
       "max           800000.000000     4.000000          4.900000  10934.000000  "
      ]
     },
     "execution_count": 12,
     "metadata": {},
     "output_type": "execute_result"
    }
   ],
   "source": [
    "df1.describe()"
   ]
  },
  {
   "cell_type": "markdown",
   "id": "1e5a015a-cb75-4f49-a4a5-ba8557e92ba7",
   "metadata": {},
   "source": [
    "##### summary of categorical features"
   ]
  },
  {
   "cell_type": "code",
   "execution_count": 13,
   "id": "a324f7ff-af5f-4082-9c25-dc92308cf012",
   "metadata": {},
   "outputs": [
    {
     "data": {
      "text/html": [
       "<div>\n",
       "<style scoped>\n",
       "    .dataframe tbody tr th:only-of-type {\n",
       "        vertical-align: middle;\n",
       "    }\n",
       "\n",
       "    .dataframe tbody tr th {\n",
       "        vertical-align: top;\n",
       "    }\n",
       "\n",
       "    .dataframe thead th {\n",
       "        text-align: right;\n",
       "    }\n",
       "</style>\n",
       "<table border=\"1\" class=\"dataframe\">\n",
       "  <thead>\n",
       "    <tr style=\"text-align: right;\">\n",
       "      <th></th>\n",
       "      <th>Restaurant Name</th>\n",
       "      <th>City</th>\n",
       "      <th>Address</th>\n",
       "      <th>Locality</th>\n",
       "      <th>Locality Verbose</th>\n",
       "      <th>Cuisines</th>\n",
       "      <th>Currency</th>\n",
       "      <th>Has Table booking</th>\n",
       "      <th>Has Online delivery</th>\n",
       "      <th>Is delivering now</th>\n",
       "      <th>Switch to order menu</th>\n",
       "      <th>Rating color</th>\n",
       "      <th>Rating text</th>\n",
       "    </tr>\n",
       "  </thead>\n",
       "  <tbody>\n",
       "    <tr>\n",
       "      <th>count</th>\n",
       "      <td>9551</td>\n",
       "      <td>9551</td>\n",
       "      <td>9551</td>\n",
       "      <td>9551</td>\n",
       "      <td>9551</td>\n",
       "      <td>9542</td>\n",
       "      <td>9551</td>\n",
       "      <td>9551</td>\n",
       "      <td>9551</td>\n",
       "      <td>9551</td>\n",
       "      <td>9551</td>\n",
       "      <td>9551</td>\n",
       "      <td>9551</td>\n",
       "    </tr>\n",
       "    <tr>\n",
       "      <th>unique</th>\n",
       "      <td>7446</td>\n",
       "      <td>141</td>\n",
       "      <td>8918</td>\n",
       "      <td>1208</td>\n",
       "      <td>1265</td>\n",
       "      <td>1825</td>\n",
       "      <td>12</td>\n",
       "      <td>2</td>\n",
       "      <td>2</td>\n",
       "      <td>2</td>\n",
       "      <td>1</td>\n",
       "      <td>6</td>\n",
       "      <td>6</td>\n",
       "    </tr>\n",
       "    <tr>\n",
       "      <th>top</th>\n",
       "      <td>Cafe Coffee Day</td>\n",
       "      <td>New Delhi</td>\n",
       "      <td>Dilli Haat, INA, New Delhi</td>\n",
       "      <td>Connaught Place</td>\n",
       "      <td>Connaught Place, New Delhi</td>\n",
       "      <td>North Indian</td>\n",
       "      <td>Indian Rupees(Rs.)</td>\n",
       "      <td>No</td>\n",
       "      <td>No</td>\n",
       "      <td>No</td>\n",
       "      <td>No</td>\n",
       "      <td>Orange</td>\n",
       "      <td>Average</td>\n",
       "    </tr>\n",
       "    <tr>\n",
       "      <th>freq</th>\n",
       "      <td>83</td>\n",
       "      <td>5473</td>\n",
       "      <td>11</td>\n",
       "      <td>122</td>\n",
       "      <td>122</td>\n",
       "      <td>936</td>\n",
       "      <td>8652</td>\n",
       "      <td>8393</td>\n",
       "      <td>7100</td>\n",
       "      <td>9517</td>\n",
       "      <td>9551</td>\n",
       "      <td>3737</td>\n",
       "      <td>3737</td>\n",
       "    </tr>\n",
       "  </tbody>\n",
       "</table>\n",
       "</div>"
      ],
      "text/plain": [
       "        Restaurant Name       City                     Address  \\\n",
       "count              9551       9551                        9551   \n",
       "unique             7446        141                        8918   \n",
       "top     Cafe Coffee Day  New Delhi  Dilli Haat, INA, New Delhi   \n",
       "freq                 83       5473                          11   \n",
       "\n",
       "               Locality            Locality Verbose      Cuisines  \\\n",
       "count              9551                        9551          9542   \n",
       "unique             1208                        1265          1825   \n",
       "top     Connaught Place  Connaught Place, New Delhi  North Indian   \n",
       "freq                122                         122           936   \n",
       "\n",
       "                  Currency Has Table booking Has Online delivery  \\\n",
       "count                 9551              9551                9551   \n",
       "unique                  12                 2                   2   \n",
       "top     Indian Rupees(Rs.)                No                  No   \n",
       "freq                  8652              8393                7100   \n",
       "\n",
       "       Is delivering now Switch to order menu Rating color Rating text  \n",
       "count               9551                 9551         9551        9551  \n",
       "unique                 2                    1            6           6  \n",
       "top                   No                   No       Orange     Average  \n",
       "freq                9517                 9551         3737        3737  "
      ]
     },
     "execution_count": 13,
     "metadata": {},
     "output_type": "execute_result"
    }
   ],
   "source": [
    "df1.describe(include=['object'])"
   ]
  },
  {
   "cell_type": "code",
   "execution_count": 14,
   "id": "d13bcfc4-9db2-4416-a1ad-fdab072e5ed9",
   "metadata": {},
   "outputs": [
    {
     "data": {
      "text/plain": [
       "No    9551\n",
       "Name: Switch to order menu, dtype: int64"
      ]
     },
     "execution_count": 14,
     "metadata": {},
     "output_type": "execute_result"
    }
   ],
   "source": [
    "#all the values in 'Switch to order menu' feature are 'No'\n",
    "df1['Switch to order menu'].value_counts()"
   ]
  },
  {
   "cell_type": "markdown",
   "id": "3e99a279-634d-4f89-b401-0408452f32b1",
   "metadata": {},
   "source": [
    "# Data Cleaning"
   ]
  },
  {
   "cell_type": "markdown",
   "id": "b92c62e6-5dbf-43cf-9c59-3b50c271fa33",
   "metadata": {},
   "source": [
    "<b>Counrty Code</b> : feature has only codes and country names are in another data set. so, let's merge the Country-Code data set"
   ]
  },
  {
   "cell_type": "code",
   "execution_count": 15,
   "id": "0774b1f6-29d7-4dcf-aaa0-b81b1480f172",
   "metadata": {},
   "outputs": [],
   "source": [
    "data = pd.merge(df1, df2, on=\"Country Code\") # our new data frame is data"
   ]
  },
  {
   "cell_type": "code",
   "execution_count": 16,
   "id": "f9575607-31c6-4131-957c-e7fb0251b1bd",
   "metadata": {
    "tags": []
   },
   "outputs": [
    {
     "data": {
      "text/plain": [
       "Index(['Restaurant ID', 'Restaurant Name', 'Country Code', 'City', 'Address',\n",
       "       'Locality', 'Locality Verbose', 'Longitude', 'Latitude', 'Cuisines',\n",
       "       'Average Cost for two', 'Currency', 'Has Table booking',\n",
       "       'Has Online delivery', 'Is delivering now', 'Switch to order menu',\n",
       "       'Price range', 'Aggregate rating', 'Rating color', 'Rating text',\n",
       "       'Votes', 'Country'],\n",
       "      dtype='object')"
      ]
     },
     "execution_count": 16,
     "metadata": {},
     "output_type": "execute_result"
    }
   ],
   "source": [
    "#we can see Country feature is added \n",
    "data.columns"
   ]
  },
  {
   "cell_type": "code",
   "execution_count": 17,
   "id": "f7a0d00a-9f25-4a30-804c-cf497d80a8ed",
   "metadata": {},
   "outputs": [
    {
     "name": "stdout",
     "output_type": "stream",
     "text": [
      "<class 'pandas.core.frame.DataFrame'>\n",
      "Int64Index: 9551 entries, 0 to 9550\n",
      "Data columns (total 22 columns):\n",
      " #   Column                Non-Null Count  Dtype  \n",
      "---  ------                --------------  -----  \n",
      " 0   Restaurant ID         9551 non-null   int64  \n",
      " 1   Restaurant Name       9551 non-null   object \n",
      " 2   Country Code          9551 non-null   int64  \n",
      " 3   City                  9551 non-null   object \n",
      " 4   Address               9551 non-null   object \n",
      " 5   Locality              9551 non-null   object \n",
      " 6   Locality Verbose      9551 non-null   object \n",
      " 7   Longitude             9551 non-null   float64\n",
      " 8   Latitude              9551 non-null   float64\n",
      " 9   Cuisines              9542 non-null   object \n",
      " 10  Average Cost for two  9551 non-null   int64  \n",
      " 11  Currency              9551 non-null   object \n",
      " 12  Has Table booking     9551 non-null   object \n",
      " 13  Has Online delivery   9551 non-null   object \n",
      " 14  Is delivering now     9551 non-null   object \n",
      " 15  Switch to order menu  9551 non-null   object \n",
      " 16  Price range           9551 non-null   int64  \n",
      " 17  Aggregate rating      9551 non-null   float64\n",
      " 18  Rating color          9551 non-null   object \n",
      " 19  Rating text           9551 non-null   object \n",
      " 20  Votes                 9551 non-null   int64  \n",
      " 21  Country               9551 non-null   object \n",
      "dtypes: float64(3), int64(5), object(14)\n",
      "memory usage: 1.7+ MB\n"
     ]
    }
   ],
   "source": [
    "data.info()"
   ]
  },
  {
   "cell_type": "code",
   "execution_count": 18,
   "id": "f60c9de0-d6b4-44be-a17c-2ae7ad9a1883",
   "metadata": {},
   "outputs": [],
   "source": [
    "###"
   ]
  },
  {
   "cell_type": "markdown",
   "id": "d02da88a-4524-47ec-a484-93e33e9e318c",
   "metadata": {},
   "source": [
    "Dropping <b>'Address', 'Locality Verbose' and 'Switch to order menu'"
   ]
  },
  {
   "cell_type": "code",
   "execution_count": 19,
   "id": "504d5347-0ec9-46cd-a8ff-ed3dea52ba3c",
   "metadata": {},
   "outputs": [],
   "source": [
    "data.drop(['Address', 'Locality Verbose', 'Switch to order menu'], axis=1, inplace=True)"
   ]
  },
  {
   "cell_type": "code",
   "execution_count": 20,
   "id": "95af6a21-f30f-47cd-bd3b-123250da47f2",
   "metadata": {},
   "outputs": [
    {
     "data": {
      "text/plain": [
       "Index(['Restaurant ID', 'Restaurant Name', 'Country Code', 'City', 'Locality',\n",
       "       'Longitude', 'Latitude', 'Cuisines', 'Average Cost for two', 'Currency',\n",
       "       'Has Table booking', 'Has Online delivery', 'Is delivering now',\n",
       "       'Price range', 'Aggregate rating', 'Rating color', 'Rating text',\n",
       "       'Votes', 'Country'],\n",
       "      dtype='object')"
      ]
     },
     "execution_count": 20,
     "metadata": {},
     "output_type": "execute_result"
    }
   ],
   "source": [
    "#we can see that 'Address', 'Locality Verbose' and 'Switch to order menu' are dropped\n",
    "data.columns"
   ]
  },
  {
   "cell_type": "code",
   "execution_count": 21,
   "id": "8896e377-7d69-4c79-8b1e-c26229c6c31a",
   "metadata": {},
   "outputs": [],
   "source": [
    "###"
   ]
  },
  {
   "cell_type": "markdown",
   "id": "de2ece88-4d53-44b4-85c1-a84e6fc49870",
   "metadata": {},
   "source": [
    "<b>Cuisines</b> : Since our main feature is Cuisines on which we have do analysis, There should not be any null init.\n",
    "- So let's drop all the rows with null in Cuisines"
   ]
  },
  {
   "cell_type": "code",
   "execution_count": 22,
   "id": "f0e1d7ef-4028-41e9-9260-ca0df5ad325a",
   "metadata": {},
   "outputs": [
    {
     "data": {
      "text/html": [
       "<div>\n",
       "<style scoped>\n",
       "    .dataframe tbody tr th:only-of-type {\n",
       "        vertical-align: middle;\n",
       "    }\n",
       "\n",
       "    .dataframe tbody tr th {\n",
       "        vertical-align: top;\n",
       "    }\n",
       "\n",
       "    .dataframe thead th {\n",
       "        text-align: right;\n",
       "    }\n",
       "</style>\n",
       "<table border=\"1\" class=\"dataframe\">\n",
       "  <thead>\n",
       "    <tr style=\"text-align: right;\">\n",
       "      <th></th>\n",
       "      <th>Restaurant ID</th>\n",
       "      <th>Restaurant Name</th>\n",
       "      <th>Country Code</th>\n",
       "      <th>City</th>\n",
       "      <th>Locality</th>\n",
       "      <th>Longitude</th>\n",
       "      <th>Latitude</th>\n",
       "      <th>Cuisines</th>\n",
       "      <th>Average Cost for two</th>\n",
       "      <th>Currency</th>\n",
       "      <th>Has Table booking</th>\n",
       "      <th>Has Online delivery</th>\n",
       "      <th>Is delivering now</th>\n",
       "      <th>Price range</th>\n",
       "      <th>Aggregate rating</th>\n",
       "      <th>Rating color</th>\n",
       "      <th>Rating text</th>\n",
       "      <th>Votes</th>\n",
       "      <th>Country</th>\n",
       "    </tr>\n",
       "  </thead>\n",
       "  <tbody>\n",
       "    <tr>\n",
       "      <th>84</th>\n",
       "      <td>17284105</td>\n",
       "      <td>Cookie Shoppe</td>\n",
       "      <td>216</td>\n",
       "      <td>Albany</td>\n",
       "      <td>Albany</td>\n",
       "      <td>-84.154000</td>\n",
       "      <td>31.577200</td>\n",
       "      <td>NaN</td>\n",
       "      <td>0</td>\n",
       "      <td>Dollar($)</td>\n",
       "      <td>No</td>\n",
       "      <td>No</td>\n",
       "      <td>No</td>\n",
       "      <td>1</td>\n",
       "      <td>3.4</td>\n",
       "      <td>Orange</td>\n",
       "      <td>Average</td>\n",
       "      <td>34</td>\n",
       "      <td>United States</td>\n",
       "    </tr>\n",
       "    <tr>\n",
       "      <th>87</th>\n",
       "      <td>17284211</td>\n",
       "      <td>Pearly's Famous Country Cookng</td>\n",
       "      <td>216</td>\n",
       "      <td>Albany</td>\n",
       "      <td>Albany</td>\n",
       "      <td>-84.175900</td>\n",
       "      <td>31.588200</td>\n",
       "      <td>NaN</td>\n",
       "      <td>0</td>\n",
       "      <td>Dollar($)</td>\n",
       "      <td>No</td>\n",
       "      <td>No</td>\n",
       "      <td>No</td>\n",
       "      <td>1</td>\n",
       "      <td>3.4</td>\n",
       "      <td>Orange</td>\n",
       "      <td>Average</td>\n",
       "      <td>36</td>\n",
       "      <td>United States</td>\n",
       "    </tr>\n",
       "    <tr>\n",
       "      <th>94</th>\n",
       "      <td>17284158</td>\n",
       "      <td>Jimmie's Hot Dogs</td>\n",
       "      <td>216</td>\n",
       "      <td>Albany</td>\n",
       "      <td>Albany</td>\n",
       "      <td>-84.153400</td>\n",
       "      <td>31.575100</td>\n",
       "      <td>NaN</td>\n",
       "      <td>10</td>\n",
       "      <td>Dollar($)</td>\n",
       "      <td>No</td>\n",
       "      <td>No</td>\n",
       "      <td>No</td>\n",
       "      <td>1</td>\n",
       "      <td>3.9</td>\n",
       "      <td>Yellow</td>\n",
       "      <td>Good</td>\n",
       "      <td>160</td>\n",
       "      <td>United States</td>\n",
       "    </tr>\n",
       "    <tr>\n",
       "      <th>288</th>\n",
       "      <td>17374552</td>\n",
       "      <td>Corkscrew Cafe</td>\n",
       "      <td>216</td>\n",
       "      <td>Gainesville</td>\n",
       "      <td>Dahlonega</td>\n",
       "      <td>-83.985800</td>\n",
       "      <td>34.531800</td>\n",
       "      <td>NaN</td>\n",
       "      <td>40</td>\n",
       "      <td>Dollar($)</td>\n",
       "      <td>No</td>\n",
       "      <td>No</td>\n",
       "      <td>No</td>\n",
       "      <td>3</td>\n",
       "      <td>3.9</td>\n",
       "      <td>Yellow</td>\n",
       "      <td>Good</td>\n",
       "      <td>209</td>\n",
       "      <td>United States</td>\n",
       "    </tr>\n",
       "    <tr>\n",
       "      <th>312</th>\n",
       "      <td>17501439</td>\n",
       "      <td>Dovetail</td>\n",
       "      <td>216</td>\n",
       "      <td>Macon</td>\n",
       "      <td>Macon</td>\n",
       "      <td>-83.627979</td>\n",
       "      <td>32.836410</td>\n",
       "      <td>NaN</td>\n",
       "      <td>40</td>\n",
       "      <td>Dollar($)</td>\n",
       "      <td>No</td>\n",
       "      <td>No</td>\n",
       "      <td>No</td>\n",
       "      <td>3</td>\n",
       "      <td>3.8</td>\n",
       "      <td>Yellow</td>\n",
       "      <td>Good</td>\n",
       "      <td>102</td>\n",
       "      <td>United States</td>\n",
       "    </tr>\n",
       "    <tr>\n",
       "      <th>328</th>\n",
       "      <td>17606621</td>\n",
       "      <td>HI Lite Bar &amp; Lounge</td>\n",
       "      <td>216</td>\n",
       "      <td>Miller</td>\n",
       "      <td>Miller</td>\n",
       "      <td>-98.989100</td>\n",
       "      <td>44.515800</td>\n",
       "      <td>NaN</td>\n",
       "      <td>0</td>\n",
       "      <td>Dollar($)</td>\n",
       "      <td>No</td>\n",
       "      <td>No</td>\n",
       "      <td>No</td>\n",
       "      <td>1</td>\n",
       "      <td>3.4</td>\n",
       "      <td>Orange</td>\n",
       "      <td>Average</td>\n",
       "      <td>11</td>\n",
       "      <td>United States</td>\n",
       "    </tr>\n",
       "    <tr>\n",
       "      <th>349</th>\n",
       "      <td>17059060</td>\n",
       "      <td>Hillstone</td>\n",
       "      <td>216</td>\n",
       "      <td>Orlando</td>\n",
       "      <td>Winter Park</td>\n",
       "      <td>-81.365260</td>\n",
       "      <td>28.596682</td>\n",
       "      <td>NaN</td>\n",
       "      <td>40</td>\n",
       "      <td>Dollar($)</td>\n",
       "      <td>No</td>\n",
       "      <td>No</td>\n",
       "      <td>No</td>\n",
       "      <td>3</td>\n",
       "      <td>4.4</td>\n",
       "      <td>Green</td>\n",
       "      <td>Very Good</td>\n",
       "      <td>1158</td>\n",
       "      <td>United States</td>\n",
       "    </tr>\n",
       "    <tr>\n",
       "      <th>395</th>\n",
       "      <td>17142698</td>\n",
       "      <td>Leonard's Bakery</td>\n",
       "      <td>216</td>\n",
       "      <td>Rest of Hawaii</td>\n",
       "      <td>Kaimuki</td>\n",
       "      <td>-157.813432</td>\n",
       "      <td>21.284586</td>\n",
       "      <td>NaN</td>\n",
       "      <td>10</td>\n",
       "      <td>Dollar($)</td>\n",
       "      <td>No</td>\n",
       "      <td>No</td>\n",
       "      <td>No</td>\n",
       "      <td>1</td>\n",
       "      <td>4.7</td>\n",
       "      <td>Dark Green</td>\n",
       "      <td>Excellent</td>\n",
       "      <td>707</td>\n",
       "      <td>United States</td>\n",
       "    </tr>\n",
       "    <tr>\n",
       "      <th>432</th>\n",
       "      <td>17616465</td>\n",
       "      <td>Tybee Island Social Club</td>\n",
       "      <td>216</td>\n",
       "      <td>Savannah</td>\n",
       "      <td>Tybee Island</td>\n",
       "      <td>-80.848297</td>\n",
       "      <td>31.995810</td>\n",
       "      <td>NaN</td>\n",
       "      <td>10</td>\n",
       "      <td>Dollar($)</td>\n",
       "      <td>No</td>\n",
       "      <td>No</td>\n",
       "      <td>No</td>\n",
       "      <td>1</td>\n",
       "      <td>3.9</td>\n",
       "      <td>Yellow</td>\n",
       "      <td>Good</td>\n",
       "      <td>309</td>\n",
       "      <td>United States</td>\n",
       "    </tr>\n",
       "  </tbody>\n",
       "</table>\n",
       "</div>"
      ],
      "text/plain": [
       "     Restaurant ID                 Restaurant Name  Country Code  \\\n",
       "84        17284105                   Cookie Shoppe           216   \n",
       "87        17284211  Pearly's Famous Country Cookng           216   \n",
       "94        17284158               Jimmie's Hot Dogs           216   \n",
       "288       17374552                  Corkscrew Cafe           216   \n",
       "312       17501439                        Dovetail           216   \n",
       "328       17606621            HI Lite Bar & Lounge           216   \n",
       "349       17059060                       Hillstone           216   \n",
       "395       17142698                Leonard's Bakery           216   \n",
       "432       17616465        Tybee Island Social Club           216   \n",
       "\n",
       "               City      Locality   Longitude   Latitude Cuisines  \\\n",
       "84           Albany        Albany  -84.154000  31.577200      NaN   \n",
       "87           Albany        Albany  -84.175900  31.588200      NaN   \n",
       "94           Albany        Albany  -84.153400  31.575100      NaN   \n",
       "288     Gainesville     Dahlonega  -83.985800  34.531800      NaN   \n",
       "312           Macon         Macon  -83.627979  32.836410      NaN   \n",
       "328          Miller        Miller  -98.989100  44.515800      NaN   \n",
       "349         Orlando   Winter Park  -81.365260  28.596682      NaN   \n",
       "395  Rest of Hawaii       Kaimuki -157.813432  21.284586      NaN   \n",
       "432        Savannah  Tybee Island  -80.848297  31.995810      NaN   \n",
       "\n",
       "     Average Cost for two   Currency Has Table booking Has Online delivery  \\\n",
       "84                      0  Dollar($)                No                  No   \n",
       "87                      0  Dollar($)                No                  No   \n",
       "94                     10  Dollar($)                No                  No   \n",
       "288                    40  Dollar($)                No                  No   \n",
       "312                    40  Dollar($)                No                  No   \n",
       "328                     0  Dollar($)                No                  No   \n",
       "349                    40  Dollar($)                No                  No   \n",
       "395                    10  Dollar($)                No                  No   \n",
       "432                    10  Dollar($)                No                  No   \n",
       "\n",
       "    Is delivering now  Price range  Aggregate rating Rating color Rating text  \\\n",
       "84                 No            1               3.4       Orange     Average   \n",
       "87                 No            1               3.4       Orange     Average   \n",
       "94                 No            1               3.9       Yellow        Good   \n",
       "288                No            3               3.9       Yellow        Good   \n",
       "312                No            3               3.8       Yellow        Good   \n",
       "328                No            1               3.4       Orange     Average   \n",
       "349                No            3               4.4        Green   Very Good   \n",
       "395                No            1               4.7   Dark Green   Excellent   \n",
       "432                No            1               3.9       Yellow        Good   \n",
       "\n",
       "     Votes        Country  \n",
       "84      34  United States  \n",
       "87      36  United States  \n",
       "94     160  United States  \n",
       "288    209  United States  \n",
       "312    102  United States  \n",
       "328     11  United States  \n",
       "349   1158  United States  \n",
       "395    707  United States  \n",
       "432    309  United States  "
      ]
     },
     "execution_count": 22,
     "metadata": {},
     "output_type": "execute_result"
    }
   ],
   "source": [
    "#rows where Cuisine have null values\n",
    "data[data.Cuisines.isna()]"
   ]
  },
  {
   "cell_type": "code",
   "execution_count": 23,
   "id": "2ce5496a-04f8-42ed-ad9b-a74308b82283",
   "metadata": {},
   "outputs": [],
   "source": [
    "#first let's make the copy of data set\n",
    "data_copy = data.copy()\n",
    "\n",
    "#dropping null values\n",
    "data_copy.dropna(inplace=True)"
   ]
  },
  {
   "cell_type": "code",
   "execution_count": 24,
   "id": "5de14f56-8696-4e97-9307-2dfb8657598c",
   "metadata": {},
   "outputs": [
    {
     "data": {
      "text/plain": [
       "Restaurant ID           0\n",
       "Restaurant Name         0\n",
       "Country Code            0\n",
       "City                    0\n",
       "Locality                0\n",
       "Longitude               0\n",
       "Latitude                0\n",
       "Cuisines                0\n",
       "Average Cost for two    0\n",
       "Currency                0\n",
       "Has Table booking       0\n",
       "Has Online delivery     0\n",
       "Is delivering now       0\n",
       "Price range             0\n",
       "Aggregate rating        0\n",
       "Rating color            0\n",
       "Rating text             0\n",
       "Votes                   0\n",
       "Country                 0\n",
       "dtype: int64"
      ]
     },
     "execution_count": 24,
     "metadata": {},
     "output_type": "execute_result"
    }
   ],
   "source": [
    "#can see the no null values in the dataframe\n",
    "data_copy.isna().sum()"
   ]
  },
  {
   "cell_type": "code",
   "execution_count": 25,
   "id": "20e57bc9-fcae-4bfb-a2fa-e4a0d8693811",
   "metadata": {},
   "outputs": [],
   "source": [
    "#storing back in original data variable\n",
    "data = data_copy"
   ]
  },
  {
   "cell_type": "code",
   "execution_count": 26,
   "id": "20537388-2f12-49e2-8ed2-508f4ecc2d7a",
   "metadata": {
    "tags": [],
    "toc-hr-collapsed": true
   },
   "outputs": [],
   "source": [
    "###### "
   ]
  },
  {
   "cell_type": "markdown",
   "id": "bc7092ab-2afb-4751-8142-248f33ef9c01",
   "metadata": {},
   "source": [
    "<b>Cuisines</b> : more than one cuisine(dish) in a single cell of rows in this feature. so let's put each Cuisine in one separete row for each reastaurant"
   ]
  },
  {
   "cell_type": "code",
   "execution_count": 27,
   "id": "0734c971-4807-4996-a65a-56c5dea4591a",
   "metadata": {
    "tags": []
   },
   "outputs": [
    {
     "data": {
      "text/html": [
       "<div>\n",
       "<style scoped>\n",
       "    .dataframe tbody tr th:only-of-type {\n",
       "        vertical-align: middle;\n",
       "    }\n",
       "\n",
       "    .dataframe tbody tr th {\n",
       "        vertical-align: top;\n",
       "    }\n",
       "\n",
       "    .dataframe thead th {\n",
       "        text-align: right;\n",
       "    }\n",
       "</style>\n",
       "<table border=\"1\" class=\"dataframe\">\n",
       "  <thead>\n",
       "    <tr style=\"text-align: right;\">\n",
       "      <th></th>\n",
       "      <th>Restaurant ID</th>\n",
       "      <th>Restaurant Name</th>\n",
       "      <th>Country Code</th>\n",
       "      <th>City</th>\n",
       "      <th>Locality</th>\n",
       "      <th>Longitude</th>\n",
       "      <th>Latitude</th>\n",
       "      <th>Cuisines</th>\n",
       "      <th>Average Cost for two</th>\n",
       "      <th>Currency</th>\n",
       "      <th>Has Table booking</th>\n",
       "      <th>Has Online delivery</th>\n",
       "      <th>Is delivering now</th>\n",
       "      <th>Price range</th>\n",
       "      <th>Aggregate rating</th>\n",
       "      <th>Rating color</th>\n",
       "      <th>Rating text</th>\n",
       "      <th>Votes</th>\n",
       "      <th>Country</th>\n",
       "    </tr>\n",
       "  </thead>\n",
       "  <tbody>\n",
       "    <tr>\n",
       "      <th>0</th>\n",
       "      <td>6317637</td>\n",
       "      <td>Le Petit Souffle</td>\n",
       "      <td>162</td>\n",
       "      <td>Makati City</td>\n",
       "      <td>Century City Mall, Poblacion, Makati City</td>\n",
       "      <td>121.027535</td>\n",
       "      <td>14.565443</td>\n",
       "      <td>[French,  Japanese,  Desserts]</td>\n",
       "      <td>1100</td>\n",
       "      <td>Botswana Pula(P)</td>\n",
       "      <td>Yes</td>\n",
       "      <td>No</td>\n",
       "      <td>No</td>\n",
       "      <td>3</td>\n",
       "      <td>4.8</td>\n",
       "      <td>Dark Green</td>\n",
       "      <td>Excellent</td>\n",
       "      <td>314</td>\n",
       "      <td>Phillipines</td>\n",
       "    </tr>\n",
       "    <tr>\n",
       "      <th>1</th>\n",
       "      <td>6304287</td>\n",
       "      <td>Izakaya Kikufuji</td>\n",
       "      <td>162</td>\n",
       "      <td>Makati City</td>\n",
       "      <td>Little Tokyo, Legaspi Village, Makati City</td>\n",
       "      <td>121.014101</td>\n",
       "      <td>14.553708</td>\n",
       "      <td>[Japanese]</td>\n",
       "      <td>1200</td>\n",
       "      <td>Botswana Pula(P)</td>\n",
       "      <td>Yes</td>\n",
       "      <td>No</td>\n",
       "      <td>No</td>\n",
       "      <td>3</td>\n",
       "      <td>4.5</td>\n",
       "      <td>Dark Green</td>\n",
       "      <td>Excellent</td>\n",
       "      <td>591</td>\n",
       "      <td>Phillipines</td>\n",
       "    </tr>\n",
       "    <tr>\n",
       "      <th>2</th>\n",
       "      <td>6300002</td>\n",
       "      <td>Heat - Edsa Shangri-La</td>\n",
       "      <td>162</td>\n",
       "      <td>Mandaluyong City</td>\n",
       "      <td>Edsa Shangri-La, Ortigas, Mandaluyong City</td>\n",
       "      <td>121.056831</td>\n",
       "      <td>14.581404</td>\n",
       "      <td>[Seafood,  Asian,  Filipino,  Indian]</td>\n",
       "      <td>4000</td>\n",
       "      <td>Botswana Pula(P)</td>\n",
       "      <td>Yes</td>\n",
       "      <td>No</td>\n",
       "      <td>No</td>\n",
       "      <td>4</td>\n",
       "      <td>4.4</td>\n",
       "      <td>Green</td>\n",
       "      <td>Very Good</td>\n",
       "      <td>270</td>\n",
       "      <td>Phillipines</td>\n",
       "    </tr>\n",
       "    <tr>\n",
       "      <th>3</th>\n",
       "      <td>6318506</td>\n",
       "      <td>Ooma</td>\n",
       "      <td>162</td>\n",
       "      <td>Mandaluyong City</td>\n",
       "      <td>SM Megamall, Ortigas, Mandaluyong City</td>\n",
       "      <td>121.056475</td>\n",
       "      <td>14.585318</td>\n",
       "      <td>[Japanese,  Sushi]</td>\n",
       "      <td>1500</td>\n",
       "      <td>Botswana Pula(P)</td>\n",
       "      <td>No</td>\n",
       "      <td>No</td>\n",
       "      <td>No</td>\n",
       "      <td>4</td>\n",
       "      <td>4.9</td>\n",
       "      <td>Dark Green</td>\n",
       "      <td>Excellent</td>\n",
       "      <td>365</td>\n",
       "      <td>Phillipines</td>\n",
       "    </tr>\n",
       "    <tr>\n",
       "      <th>4</th>\n",
       "      <td>6314302</td>\n",
       "      <td>Sambo Kojin</td>\n",
       "      <td>162</td>\n",
       "      <td>Mandaluyong City</td>\n",
       "      <td>SM Megamall, Ortigas, Mandaluyong City</td>\n",
       "      <td>121.057508</td>\n",
       "      <td>14.584450</td>\n",
       "      <td>[Japanese,  Korean]</td>\n",
       "      <td>1500</td>\n",
       "      <td>Botswana Pula(P)</td>\n",
       "      <td>Yes</td>\n",
       "      <td>No</td>\n",
       "      <td>No</td>\n",
       "      <td>4</td>\n",
       "      <td>4.8</td>\n",
       "      <td>Dark Green</td>\n",
       "      <td>Excellent</td>\n",
       "      <td>229</td>\n",
       "      <td>Phillipines</td>\n",
       "    </tr>\n",
       "  </tbody>\n",
       "</table>\n",
       "</div>"
      ],
      "text/plain": [
       "   Restaurant ID         Restaurant Name  Country Code              City  \\\n",
       "0        6317637        Le Petit Souffle           162       Makati City   \n",
       "1        6304287        Izakaya Kikufuji           162       Makati City   \n",
       "2        6300002  Heat - Edsa Shangri-La           162  Mandaluyong City   \n",
       "3        6318506                    Ooma           162  Mandaluyong City   \n",
       "4        6314302             Sambo Kojin           162  Mandaluyong City   \n",
       "\n",
       "                                     Locality   Longitude   Latitude  \\\n",
       "0   Century City Mall, Poblacion, Makati City  121.027535  14.565443   \n",
       "1  Little Tokyo, Legaspi Village, Makati City  121.014101  14.553708   \n",
       "2  Edsa Shangri-La, Ortigas, Mandaluyong City  121.056831  14.581404   \n",
       "3      SM Megamall, Ortigas, Mandaluyong City  121.056475  14.585318   \n",
       "4      SM Megamall, Ortigas, Mandaluyong City  121.057508  14.584450   \n",
       "\n",
       "                                Cuisines  Average Cost for two  \\\n",
       "0         [French,  Japanese,  Desserts]                  1100   \n",
       "1                             [Japanese]                  1200   \n",
       "2  [Seafood,  Asian,  Filipino,  Indian]                  4000   \n",
       "3                     [Japanese,  Sushi]                  1500   \n",
       "4                    [Japanese,  Korean]                  1500   \n",
       "\n",
       "           Currency Has Table booking Has Online delivery Is delivering now  \\\n",
       "0  Botswana Pula(P)               Yes                  No                No   \n",
       "1  Botswana Pula(P)               Yes                  No                No   \n",
       "2  Botswana Pula(P)               Yes                  No                No   \n",
       "3  Botswana Pula(P)                No                  No                No   \n",
       "4  Botswana Pula(P)               Yes                  No                No   \n",
       "\n",
       "   Price range  Aggregate rating Rating color Rating text  Votes      Country  \n",
       "0            3               4.8   Dark Green   Excellent    314  Phillipines  \n",
       "1            3               4.5   Dark Green   Excellent    591  Phillipines  \n",
       "2            4               4.4        Green   Very Good    270  Phillipines  \n",
       "3            4               4.9   Dark Green   Excellent    365  Phillipines  \n",
       "4            4               4.8   Dark Green   Excellent    229  Phillipines  "
      ]
     },
     "execution_count": 27,
     "metadata": {},
     "output_type": "execute_result"
    }
   ],
   "source": [
    "#first let's make the copy of data set\n",
    "data_copy = data.copy()\n",
    "\n",
    "#splitting the text(Cuisines) with are comma as delimiter\n",
    "data_copy.Cuisines = data_copy.Cuisines.str.split(\",\")\n",
    "\n",
    "data_copy.head() #we can see a list is formed in every row of Cuisines after splliting"
   ]
  },
  {
   "cell_type": "code",
   "execution_count": 28,
   "id": "8ecf6dc6-a892-4ff8-bc84-fa721636f776",
   "metadata": {},
   "outputs": [],
   "source": [
    "#using explode() to make each Cuisine into each row\n",
    "\n",
    "data_copy = data_copy.explode('Cuisines', ignore_index=True) #storing new dataframe into same data_copy variable"
   ]
  },
  {
   "cell_type": "code",
   "execution_count": 29,
   "id": "5c013c9d-404f-4765-8838-eb17226eeb06",
   "metadata": {},
   "outputs": [
    {
     "data": {
      "text/html": [
       "<div>\n",
       "<style scoped>\n",
       "    .dataframe tbody tr th:only-of-type {\n",
       "        vertical-align: middle;\n",
       "    }\n",
       "\n",
       "    .dataframe tbody tr th {\n",
       "        vertical-align: top;\n",
       "    }\n",
       "\n",
       "    .dataframe thead th {\n",
       "        text-align: right;\n",
       "    }\n",
       "</style>\n",
       "<table border=\"1\" class=\"dataframe\">\n",
       "  <thead>\n",
       "    <tr style=\"text-align: right;\">\n",
       "      <th></th>\n",
       "      <th>Restaurant ID</th>\n",
       "      <th>Restaurant Name</th>\n",
       "      <th>Country Code</th>\n",
       "      <th>City</th>\n",
       "      <th>Locality</th>\n",
       "      <th>Longitude</th>\n",
       "      <th>Latitude</th>\n",
       "      <th>Cuisines</th>\n",
       "      <th>Average Cost for two</th>\n",
       "      <th>Currency</th>\n",
       "      <th>Has Table booking</th>\n",
       "      <th>Has Online delivery</th>\n",
       "      <th>Is delivering now</th>\n",
       "      <th>Price range</th>\n",
       "      <th>Aggregate rating</th>\n",
       "      <th>Rating color</th>\n",
       "      <th>Rating text</th>\n",
       "      <th>Votes</th>\n",
       "      <th>Country</th>\n",
       "    </tr>\n",
       "  </thead>\n",
       "  <tbody>\n",
       "    <tr>\n",
       "      <th>0</th>\n",
       "      <td>6317637</td>\n",
       "      <td>Le Petit Souffle</td>\n",
       "      <td>162</td>\n",
       "      <td>Makati City</td>\n",
       "      <td>Century City Mall, Poblacion, Makati City</td>\n",
       "      <td>121.027535</td>\n",
       "      <td>14.565443</td>\n",
       "      <td>French</td>\n",
       "      <td>1100</td>\n",
       "      <td>Botswana Pula(P)</td>\n",
       "      <td>Yes</td>\n",
       "      <td>No</td>\n",
       "      <td>No</td>\n",
       "      <td>3</td>\n",
       "      <td>4.8</td>\n",
       "      <td>Dark Green</td>\n",
       "      <td>Excellent</td>\n",
       "      <td>314</td>\n",
       "      <td>Phillipines</td>\n",
       "    </tr>\n",
       "    <tr>\n",
       "      <th>1</th>\n",
       "      <td>6317637</td>\n",
       "      <td>Le Petit Souffle</td>\n",
       "      <td>162</td>\n",
       "      <td>Makati City</td>\n",
       "      <td>Century City Mall, Poblacion, Makati City</td>\n",
       "      <td>121.027535</td>\n",
       "      <td>14.565443</td>\n",
       "      <td>Japanese</td>\n",
       "      <td>1100</td>\n",
       "      <td>Botswana Pula(P)</td>\n",
       "      <td>Yes</td>\n",
       "      <td>No</td>\n",
       "      <td>No</td>\n",
       "      <td>3</td>\n",
       "      <td>4.8</td>\n",
       "      <td>Dark Green</td>\n",
       "      <td>Excellent</td>\n",
       "      <td>314</td>\n",
       "      <td>Phillipines</td>\n",
       "    </tr>\n",
       "    <tr>\n",
       "      <th>2</th>\n",
       "      <td>6317637</td>\n",
       "      <td>Le Petit Souffle</td>\n",
       "      <td>162</td>\n",
       "      <td>Makati City</td>\n",
       "      <td>Century City Mall, Poblacion, Makati City</td>\n",
       "      <td>121.027535</td>\n",
       "      <td>14.565443</td>\n",
       "      <td>Desserts</td>\n",
       "      <td>1100</td>\n",
       "      <td>Botswana Pula(P)</td>\n",
       "      <td>Yes</td>\n",
       "      <td>No</td>\n",
       "      <td>No</td>\n",
       "      <td>3</td>\n",
       "      <td>4.8</td>\n",
       "      <td>Dark Green</td>\n",
       "      <td>Excellent</td>\n",
       "      <td>314</td>\n",
       "      <td>Phillipines</td>\n",
       "    </tr>\n",
       "    <tr>\n",
       "      <th>3</th>\n",
       "      <td>6304287</td>\n",
       "      <td>Izakaya Kikufuji</td>\n",
       "      <td>162</td>\n",
       "      <td>Makati City</td>\n",
       "      <td>Little Tokyo, Legaspi Village, Makati City</td>\n",
       "      <td>121.014101</td>\n",
       "      <td>14.553708</td>\n",
       "      <td>Japanese</td>\n",
       "      <td>1200</td>\n",
       "      <td>Botswana Pula(P)</td>\n",
       "      <td>Yes</td>\n",
       "      <td>No</td>\n",
       "      <td>No</td>\n",
       "      <td>3</td>\n",
       "      <td>4.5</td>\n",
       "      <td>Dark Green</td>\n",
       "      <td>Excellent</td>\n",
       "      <td>591</td>\n",
       "      <td>Phillipines</td>\n",
       "    </tr>\n",
       "    <tr>\n",
       "      <th>4</th>\n",
       "      <td>6300002</td>\n",
       "      <td>Heat - Edsa Shangri-La</td>\n",
       "      <td>162</td>\n",
       "      <td>Mandaluyong City</td>\n",
       "      <td>Edsa Shangri-La, Ortigas, Mandaluyong City</td>\n",
       "      <td>121.056831</td>\n",
       "      <td>14.581404</td>\n",
       "      <td>Seafood</td>\n",
       "      <td>4000</td>\n",
       "      <td>Botswana Pula(P)</td>\n",
       "      <td>Yes</td>\n",
       "      <td>No</td>\n",
       "      <td>No</td>\n",
       "      <td>4</td>\n",
       "      <td>4.4</td>\n",
       "      <td>Green</td>\n",
       "      <td>Very Good</td>\n",
       "      <td>270</td>\n",
       "      <td>Phillipines</td>\n",
       "    </tr>\n",
       "  </tbody>\n",
       "</table>\n",
       "</div>"
      ],
      "text/plain": [
       "   Restaurant ID         Restaurant Name  Country Code              City  \\\n",
       "0        6317637        Le Petit Souffle           162       Makati City   \n",
       "1        6317637        Le Petit Souffle           162       Makati City   \n",
       "2        6317637        Le Petit Souffle           162       Makati City   \n",
       "3        6304287        Izakaya Kikufuji           162       Makati City   \n",
       "4        6300002  Heat - Edsa Shangri-La           162  Mandaluyong City   \n",
       "\n",
       "                                     Locality   Longitude   Latitude  \\\n",
       "0   Century City Mall, Poblacion, Makati City  121.027535  14.565443   \n",
       "1   Century City Mall, Poblacion, Makati City  121.027535  14.565443   \n",
       "2   Century City Mall, Poblacion, Makati City  121.027535  14.565443   \n",
       "3  Little Tokyo, Legaspi Village, Makati City  121.014101  14.553708   \n",
       "4  Edsa Shangri-La, Ortigas, Mandaluyong City  121.056831  14.581404   \n",
       "\n",
       "    Cuisines  Average Cost for two          Currency Has Table booking  \\\n",
       "0     French                  1100  Botswana Pula(P)               Yes   \n",
       "1   Japanese                  1100  Botswana Pula(P)               Yes   \n",
       "2   Desserts                  1100  Botswana Pula(P)               Yes   \n",
       "3   Japanese                  1200  Botswana Pula(P)               Yes   \n",
       "4    Seafood                  4000  Botswana Pula(P)               Yes   \n",
       "\n",
       "  Has Online delivery Is delivering now  Price range  Aggregate rating  \\\n",
       "0                  No                No            3               4.8   \n",
       "1                  No                No            3               4.8   \n",
       "2                  No                No            3               4.8   \n",
       "3                  No                No            3               4.5   \n",
       "4                  No                No            4               4.4   \n",
       "\n",
       "  Rating color Rating text  Votes      Country  \n",
       "0   Dark Green   Excellent    314  Phillipines  \n",
       "1   Dark Green   Excellent    314  Phillipines  \n",
       "2   Dark Green   Excellent    314  Phillipines  \n",
       "3   Dark Green   Excellent    591  Phillipines  \n",
       "4        Green   Very Good    270  Phillipines  "
      ]
     },
     "execution_count": 29,
     "metadata": {},
     "output_type": "execute_result"
    }
   ],
   "source": [
    "data_copy.head()"
   ]
  },
  {
   "cell_type": "code",
   "execution_count": 30,
   "id": "3faf1d02-ad43-4e0f-9ee1-6ee61e379d48",
   "metadata": {},
   "outputs": [
    {
     "name": "stdout",
     "output_type": "stream",
     "text": [
      "<class 'pandas.core.frame.DataFrame'>\n",
      "RangeIndex: 19710 entries, 0 to 19709\n",
      "Data columns (total 19 columns):\n",
      " #   Column                Non-Null Count  Dtype  \n",
      "---  ------                --------------  -----  \n",
      " 0   Restaurant ID         19710 non-null  int64  \n",
      " 1   Restaurant Name       19710 non-null  object \n",
      " 2   Country Code          19710 non-null  int64  \n",
      " 3   City                  19710 non-null  object \n",
      " 4   Locality              19710 non-null  object \n",
      " 5   Longitude             19710 non-null  float64\n",
      " 6   Latitude              19710 non-null  float64\n",
      " 7   Cuisines              19710 non-null  object \n",
      " 8   Average Cost for two  19710 non-null  int64  \n",
      " 9   Currency              19710 non-null  object \n",
      " 10  Has Table booking     19710 non-null  object \n",
      " 11  Has Online delivery   19710 non-null  object \n",
      " 12  Is delivering now     19710 non-null  object \n",
      " 13  Price range           19710 non-null  int64  \n",
      " 14  Aggregate rating      19710 non-null  float64\n",
      " 15  Rating color          19710 non-null  object \n",
      " 16  Rating text           19710 non-null  object \n",
      " 17  Votes                 19710 non-null  int64  \n",
      " 18  Country               19710 non-null  object \n",
      "dtypes: float64(3), int64(5), object(11)\n",
      "memory usage: 2.9+ MB\n"
     ]
    }
   ],
   "source": [
    "#let's store back data_copy into the original variable\n",
    "data = data_copy\n",
    "\n",
    "data.info()  #we can also see that no of rows are increased as we put each Cuisine into a seperate row "
   ]
  },
  {
   "cell_type": "code",
   "execution_count": 31,
   "id": "fbf5003e-b6a1-43ba-ae6b-8c7da1e95064",
   "metadata": {},
   "outputs": [],
   "source": [
    "###"
   ]
  },
  {
   "cell_type": "markdown",
   "id": "bee14fbe-b532-4d57-a032-d64872124663",
   "metadata": {},
   "source": [
    "<b>Locality</b> : has more than 1 detail about Locality with ',' separated and city is also present. so, let's split them and remove city"
   ]
  },
  {
   "cell_type": "code",
   "execution_count": 32,
   "id": "5735a952-4cf6-4302-ba72-3ebd62fc8e77",
   "metadata": {},
   "outputs": [],
   "source": [
    "#let's a make copy of dataframe\n",
    "data_copy = data.copy()\n",
    "\n",
    "#spllting the Locality feature and taking only the first detail\n",
    "data_copy.Locality = data_copy.Locality.str.split(\",\").str.get(0)"
   ]
  },
  {
   "cell_type": "code",
   "execution_count": 33,
   "id": "57e1f745-adf2-4a56-a6ab-586fbf891169",
   "metadata": {},
   "outputs": [
    {
     "data": {
      "text/html": [
       "<div>\n",
       "<style scoped>\n",
       "    .dataframe tbody tr th:only-of-type {\n",
       "        vertical-align: middle;\n",
       "    }\n",
       "\n",
       "    .dataframe tbody tr th {\n",
       "        vertical-align: top;\n",
       "    }\n",
       "\n",
       "    .dataframe thead th {\n",
       "        text-align: right;\n",
       "    }\n",
       "</style>\n",
       "<table border=\"1\" class=\"dataframe\">\n",
       "  <thead>\n",
       "    <tr style=\"text-align: right;\">\n",
       "      <th></th>\n",
       "      <th>Restaurant ID</th>\n",
       "      <th>Restaurant Name</th>\n",
       "      <th>Country Code</th>\n",
       "      <th>City</th>\n",
       "      <th>Locality</th>\n",
       "      <th>Longitude</th>\n",
       "      <th>Latitude</th>\n",
       "      <th>Cuisines</th>\n",
       "      <th>Average Cost for two</th>\n",
       "      <th>Currency</th>\n",
       "      <th>Has Table booking</th>\n",
       "      <th>Has Online delivery</th>\n",
       "      <th>Is delivering now</th>\n",
       "      <th>Price range</th>\n",
       "      <th>Aggregate rating</th>\n",
       "      <th>Rating color</th>\n",
       "      <th>Rating text</th>\n",
       "      <th>Votes</th>\n",
       "      <th>Country</th>\n",
       "    </tr>\n",
       "  </thead>\n",
       "  <tbody>\n",
       "    <tr>\n",
       "      <th>0</th>\n",
       "      <td>6317637</td>\n",
       "      <td>Le Petit Souffle</td>\n",
       "      <td>162</td>\n",
       "      <td>Makati City</td>\n",
       "      <td>Century City Mall</td>\n",
       "      <td>121.027535</td>\n",
       "      <td>14.565443</td>\n",
       "      <td>French</td>\n",
       "      <td>1100</td>\n",
       "      <td>Botswana Pula(P)</td>\n",
       "      <td>Yes</td>\n",
       "      <td>No</td>\n",
       "      <td>No</td>\n",
       "      <td>3</td>\n",
       "      <td>4.8</td>\n",
       "      <td>Dark Green</td>\n",
       "      <td>Excellent</td>\n",
       "      <td>314</td>\n",
       "      <td>Phillipines</td>\n",
       "    </tr>\n",
       "    <tr>\n",
       "      <th>1</th>\n",
       "      <td>6317637</td>\n",
       "      <td>Le Petit Souffle</td>\n",
       "      <td>162</td>\n",
       "      <td>Makati City</td>\n",
       "      <td>Century City Mall</td>\n",
       "      <td>121.027535</td>\n",
       "      <td>14.565443</td>\n",
       "      <td>Japanese</td>\n",
       "      <td>1100</td>\n",
       "      <td>Botswana Pula(P)</td>\n",
       "      <td>Yes</td>\n",
       "      <td>No</td>\n",
       "      <td>No</td>\n",
       "      <td>3</td>\n",
       "      <td>4.8</td>\n",
       "      <td>Dark Green</td>\n",
       "      <td>Excellent</td>\n",
       "      <td>314</td>\n",
       "      <td>Phillipines</td>\n",
       "    </tr>\n",
       "    <tr>\n",
       "      <th>2</th>\n",
       "      <td>6317637</td>\n",
       "      <td>Le Petit Souffle</td>\n",
       "      <td>162</td>\n",
       "      <td>Makati City</td>\n",
       "      <td>Century City Mall</td>\n",
       "      <td>121.027535</td>\n",
       "      <td>14.565443</td>\n",
       "      <td>Desserts</td>\n",
       "      <td>1100</td>\n",
       "      <td>Botswana Pula(P)</td>\n",
       "      <td>Yes</td>\n",
       "      <td>No</td>\n",
       "      <td>No</td>\n",
       "      <td>3</td>\n",
       "      <td>4.8</td>\n",
       "      <td>Dark Green</td>\n",
       "      <td>Excellent</td>\n",
       "      <td>314</td>\n",
       "      <td>Phillipines</td>\n",
       "    </tr>\n",
       "    <tr>\n",
       "      <th>3</th>\n",
       "      <td>6304287</td>\n",
       "      <td>Izakaya Kikufuji</td>\n",
       "      <td>162</td>\n",
       "      <td>Makati City</td>\n",
       "      <td>Little Tokyo</td>\n",
       "      <td>121.014101</td>\n",
       "      <td>14.553708</td>\n",
       "      <td>Japanese</td>\n",
       "      <td>1200</td>\n",
       "      <td>Botswana Pula(P)</td>\n",
       "      <td>Yes</td>\n",
       "      <td>No</td>\n",
       "      <td>No</td>\n",
       "      <td>3</td>\n",
       "      <td>4.5</td>\n",
       "      <td>Dark Green</td>\n",
       "      <td>Excellent</td>\n",
       "      <td>591</td>\n",
       "      <td>Phillipines</td>\n",
       "    </tr>\n",
       "    <tr>\n",
       "      <th>4</th>\n",
       "      <td>6300002</td>\n",
       "      <td>Heat - Edsa Shangri-La</td>\n",
       "      <td>162</td>\n",
       "      <td>Mandaluyong City</td>\n",
       "      <td>Edsa Shangri-La</td>\n",
       "      <td>121.056831</td>\n",
       "      <td>14.581404</td>\n",
       "      <td>Seafood</td>\n",
       "      <td>4000</td>\n",
       "      <td>Botswana Pula(P)</td>\n",
       "      <td>Yes</td>\n",
       "      <td>No</td>\n",
       "      <td>No</td>\n",
       "      <td>4</td>\n",
       "      <td>4.4</td>\n",
       "      <td>Green</td>\n",
       "      <td>Very Good</td>\n",
       "      <td>270</td>\n",
       "      <td>Phillipines</td>\n",
       "    </tr>\n",
       "  </tbody>\n",
       "</table>\n",
       "</div>"
      ],
      "text/plain": [
       "   Restaurant ID         Restaurant Name  Country Code              City  \\\n",
       "0        6317637        Le Petit Souffle           162       Makati City   \n",
       "1        6317637        Le Petit Souffle           162       Makati City   \n",
       "2        6317637        Le Petit Souffle           162       Makati City   \n",
       "3        6304287        Izakaya Kikufuji           162       Makati City   \n",
       "4        6300002  Heat - Edsa Shangri-La           162  Mandaluyong City   \n",
       "\n",
       "            Locality   Longitude   Latitude   Cuisines  Average Cost for two  \\\n",
       "0  Century City Mall  121.027535  14.565443     French                  1100   \n",
       "1  Century City Mall  121.027535  14.565443   Japanese                  1100   \n",
       "2  Century City Mall  121.027535  14.565443   Desserts                  1100   \n",
       "3       Little Tokyo  121.014101  14.553708   Japanese                  1200   \n",
       "4    Edsa Shangri-La  121.056831  14.581404    Seafood                  4000   \n",
       "\n",
       "           Currency Has Table booking Has Online delivery Is delivering now  \\\n",
       "0  Botswana Pula(P)               Yes                  No                No   \n",
       "1  Botswana Pula(P)               Yes                  No                No   \n",
       "2  Botswana Pula(P)               Yes                  No                No   \n",
       "3  Botswana Pula(P)               Yes                  No                No   \n",
       "4  Botswana Pula(P)               Yes                  No                No   \n",
       "\n",
       "   Price range  Aggregate rating Rating color Rating text  Votes      Country  \n",
       "0            3               4.8   Dark Green   Excellent    314  Phillipines  \n",
       "1            3               4.8   Dark Green   Excellent    314  Phillipines  \n",
       "2            3               4.8   Dark Green   Excellent    314  Phillipines  \n",
       "3            3               4.5   Dark Green   Excellent    591  Phillipines  \n",
       "4            4               4.4        Green   Very Good    270  Phillipines  "
      ]
     },
     "execution_count": 33,
     "metadata": {},
     "output_type": "execute_result"
    }
   ],
   "source": [
    "data = data_copy #storing into original variable\n",
    "\n",
    "data.head() # we can see the Locality column has only one detail in it"
   ]
  },
  {
   "cell_type": "code",
   "execution_count": 34,
   "id": "c35187da-6245-470d-867e-54d45cc3d1d9",
   "metadata": {},
   "outputs": [],
   "source": [
    "###"
   ]
  },
  {
   "cell_type": "markdown",
   "id": "cbfe030a-b4f7-4715-9f70-78f3dbe077e3",
   "metadata": {},
   "source": [
    "1. <b>Restaurant ID</b> : It is of int64 data type but, it should be object data type. let's change it\n",
    "2. <b>Counrty Code</b> : let's change the data type to object"
   ]
  },
  {
   "cell_type": "code",
   "execution_count": 35,
   "id": "68e2a8f3-73cf-4306-97ca-34e921e1af70",
   "metadata": {},
   "outputs": [],
   "source": [
    "data['Restaurant ID'] = data['Restaurant ID'].astype('object') # changing data['Restaurant ID'] into oject datatype\n",
    "\n",
    "data['Country Code'] = data['Country Code'].astype('object') # changing data['Country Code'] into oject datatype"
   ]
  },
  {
   "cell_type": "code",
   "execution_count": 36,
   "id": "06436335-b4c2-44f7-9cc9-55f3ddacd12b",
   "metadata": {},
   "outputs": [
    {
     "name": "stdout",
     "output_type": "stream",
     "text": [
      "<class 'pandas.core.frame.DataFrame'>\n",
      "RangeIndex: 19710 entries, 0 to 19709\n",
      "Data columns (total 19 columns):\n",
      " #   Column                Non-Null Count  Dtype  \n",
      "---  ------                --------------  -----  \n",
      " 0   Restaurant ID         19710 non-null  object \n",
      " 1   Restaurant Name       19710 non-null  object \n",
      " 2   Country Code          19710 non-null  object \n",
      " 3   City                  19710 non-null  object \n",
      " 4   Locality              19710 non-null  object \n",
      " 5   Longitude             19710 non-null  float64\n",
      " 6   Latitude              19710 non-null  float64\n",
      " 7   Cuisines              19710 non-null  object \n",
      " 8   Average Cost for two  19710 non-null  int64  \n",
      " 9   Currency              19710 non-null  object \n",
      " 10  Has Table booking     19710 non-null  object \n",
      " 11  Has Online delivery   19710 non-null  object \n",
      " 12  Is delivering now     19710 non-null  object \n",
      " 13  Price range           19710 non-null  int64  \n",
      " 14  Aggregate rating      19710 non-null  float64\n",
      " 15  Rating color          19710 non-null  object \n",
      " 16  Rating text           19710 non-null  object \n",
      " 17  Votes                 19710 non-null  int64  \n",
      " 18  Country               19710 non-null  object \n",
      "dtypes: float64(3), int64(3), object(13)\n",
      "memory usage: 2.9+ MB\n"
     ]
    }
   ],
   "source": [
    "data.info() #both columns data types are corrected"
   ]
  },
  {
   "cell_type": "markdown",
   "id": "619b15e4-09ae-456f-b5ce-92f37edb3e9b",
   "metadata": {},
   "source": [
    "Let's also check categories in the categorical feature "
   ]
  },
  {
   "cell_type": "code",
   "execution_count": 37,
   "id": "78c5e9af-4694-48ce-a227-2c3aab0bef1e",
   "metadata": {},
   "outputs": [
    {
     "name": "stdout",
     "output_type": "stream",
     "text": [
      "['Makati City' 'Mandaluyong City' 'Pasay City' 'Pasig City' 'Quezon City'\n",
      " 'San Juan City' 'Santa Rosa' 'Tagaytay City' 'Taguig City' 'Brasí_lia'\n",
      " 'Rio de Janeiro' 'Sí£o Paulo' 'Albany' 'Athens' 'Augusta' 'Boise'\n",
      " 'Cedar Rapids/Iowa City' 'Clatskanie' 'Cochrane' 'Columbus' 'Dalton'\n",
      " 'Davenport' 'Des Moines' 'Dubuque' 'Fernley' 'Gainesville' 'Lakeview'\n",
      " 'Lincoln' 'Macon' 'Mc Millan' 'Monroe' 'Ojo Caliente' 'Orlando'\n",
      " 'Pensacola' 'Pocatello' 'Potrero' 'Princeton' 'Rest of Hawaii' 'Savannah'\n",
      " 'Sioux City' 'Tampa Bay' 'Valdosta' 'Vernonia' 'Waterloo' 'Weirton'\n",
      " 'Winchester Bay' 'Armidale' 'Balingup' 'Beechworth' 'Dicky Beach'\n",
      " 'East Ballina' 'Flaxton' 'Forrest' 'Hepburn Springs' 'Huskisson'\n",
      " 'Inverloch' 'Lakes Entrance' 'Lorn' 'Macedon' 'Mayfield'\n",
      " 'Middleton Beach' 'Montville' 'Palm Cove' 'Paynesville' 'Penola'\n",
      " 'Phillip Island' 'Tanunda' 'Trentham East' 'Victor Harbor' 'Chatham-Kent'\n",
      " 'Consort' 'Vineland Station' 'Yorkton' 'Singapore' 'Abu Dhabi' 'Dubai'\n",
      " 'Sharjah' 'Agra' 'Ahmedabad' 'Allahabad' 'Amritsar' 'Aurangabad'\n",
      " 'Bangalore' 'Bhopal' 'Bhubaneshwar' 'Chandigarh' 'Chennai' 'Coimbatore'\n",
      " 'Dehradun' 'Faridabad' 'Ghaziabad' 'Goa' 'Gurgaon' 'Guwahati' 'Hyderabad'\n",
      " 'Indore' 'Jaipur' 'Kanpur' 'Kochi' 'Kolkata' 'Lucknow' 'Ludhiana'\n",
      " 'Mangalore' 'Mohali' 'Mumbai' 'Mysore' 'Nagpur' 'Nashik' 'New Delhi'\n",
      " 'Noida' 'Panchkula' 'Patna' 'Puducherry' 'Pune' 'Ranchi' 'Secunderabad'\n",
      " 'Surat' 'Vadodara' 'Varanasi' 'Vizag' 'Bandung' 'Bogor' 'Jakarta'\n",
      " 'Tangerang' 'Auckland' 'Wellington City' 'Birmingham' 'Edinburgh'\n",
      " 'London' 'Manchester' 'Doha' 'Cape Town' 'Inner City' 'Johannesburg'\n",
      " 'Pretoria' 'Randburg' 'Sandton' 'Colombo' 'Ankara' 'ÛÁstanbul'] \n",
      "\n",
      "['Century City Mall' 'Little Tokyo' 'Edsa Shangri-La' ... 'Ko\\x81ôuyolu'\n",
      " 'Kuruí_e\\x81ôme' 'Moda'] \n",
      "\n",
      "['French' ' Japanese' ' Desserts' 'Japanese' 'Seafood' ' Asian'\n",
      " ' Filipino' ' Indian' ' Sushi' ' Korean' 'Chinese' 'Asian' ' European'\n",
      " 'European' 'Filipino' ' Mexican' 'American' ' Ice Cream' 'Korean' 'Cafe'\n",
      " ' American' ' Italian' 'Italian' ' Pizza' ' Bakery' ' Mediterranean'\n",
      " ' Seafood' 'Fast Food' ' French' 'Bakery' 'Brazilian' 'Pizza' 'Arabian'\n",
      " ' Cafe' 'Bar Food' ' Brazilian' 'Mexican' ' Grill' 'International'\n",
      " 'Peruvian' ' Latin American' ' Burger' ' Bar Food' 'Desserts' 'Juices'\n",
      " ' Healthy Food' 'Beverages' ' Fast Food' 'Lebanese' 'Burger' ' Juices'\n",
      " ' Sandwich' 'Steak' ' BBQ' 'Indian' ' International' ' Beverages' 'Sushi'\n",
      " 'BBQ' 'Gourmet Fast Food' ' Mineira' ' North Eastern' ' Arabian'\n",
      " 'Coffee and Tea' ' Chinese' ' Vegetarian' ' Tapas' ' Steak' ' Breakfast'\n",
      " ' Diner' ' Southern' ' Southwestern' 'Southern' 'Breakfast' 'Sandwich'\n",
      " ' Spanish' ' Argentine' ' Caribbean' 'German' 'Vietnamese' 'Thai'\n",
      " 'Latin American' ' Thai' ' Teriyaki' 'Mediterranean' ' Vietnamese'\n",
      " ' Cajun' ' Tex-Mex' ' Middle Eastern' ' Greek' ' Coffee and Tea'\n",
      " ' Bubble Tea' ' German' ' Cuban' 'Greek' 'Spanish' 'Hawaiian' ' Salad'\n",
      " 'Irish' 'New American' 'Caribbean' ' Tea' 'Cajun' ' Soul Food' ' Turkish'\n",
      " 'Pub Food' 'Tapas' ' Persian' ' Hawaiian' 'British' ' Deli' 'Cuban'\n",
      " 'Modern Australian' ' Modern Australian' 'Tea' ' Australian' ' Fusion'\n",
      " 'Australian' ' Canadian' ' Continental' ' Singaporean' 'Singaporean'\n",
      " ' Malay' ' Cantonese' ' Dim Sum' 'Western' 'Finger Food' 'Turkish'\n",
      " ' Indonesian' ' North Indian' ' Mughlai' ' Biryani' ' South Indian'\n",
      " 'Pakistani' ' Afghani' ' Hyderabadi' ' Rajasthani' 'Continental'\n",
      " ' Street Food' 'Goan' 'South Indian' 'African' ' Portuguese'\n",
      " 'North Indian' 'Rajasthani' 'Mughlai' ' Gujarati' 'Ice Cream' ' Armenian'\n",
      " 'Street Food' 'Mithai' 'Maharashtrian' 'Modern Indian' ' Charcoal Grill'\n",
      " ' Malaysian' ' Burmese' ' Finger Food' ' Chettinad' 'Biryani' 'Parsi'\n",
      " ' Tibetan' 'Raw Meats' ' Mithai' ' Raw Meats' ' Goan' ' Kerala'\n",
      " ' Lebanese' ' Belgian' 'Kashmiri' 'South American' 'Persian' 'Bengali'\n",
      " 'Healthy Food' 'Portuguese' ' African' ' Iranian' 'Burmese' ' Lucknowi'\n",
      " 'Awadhi' 'Tibetan' ' Nepalese' 'Drinks Only' 'Lucknowi' ' Bengali'\n",
      " ' Pakistani' 'Gujarati' ' Awadhi' 'North Eastern' 'Oriya' 'Hyderabadi'\n",
      " 'Bihari' ' Parsi' 'Afghani' ' Assamese' ' Andhra' 'Kerala' 'Tex-Mex'\n",
      " ' Mangalorean' ' British' 'Andhra' ' Maharashtrian' 'Malwani'\n",
      " 'Cuisine Varies' 'Malaysian' ' Moroccan' 'Assamese' ' Kashmiri' ' Naga'\n",
      " 'Middle Eastern' 'Nepalese' 'Naga' ' Bihari' 'Salad' ' Modern Indian'\n",
      " ' Sri Lankan' 'Charcoal Grill' ' Western' 'Peranakan' 'Sunda' ' Ramen'\n",
      " 'Indonesian' ' Kiwi' 'Asian Fusion' 'Taiwanese' 'Kiwi' ' Pub Food'\n",
      " ' Fish and Chips' 'Contemporary' 'Scottish' ' Scottish' ' Curry'\n",
      " ' Contemporary' 'Ramen' 'Argentine' ' Patisserie' ' South African'\n",
      " ' Durban' 'Grill' 'Sri Lankan' 'Kebab' ' Turkish Pizza' 'Patisserie'\n",
      " ' Izgara' 'World Cuisine' ' Dí_ner' 'Turkish Pizza' 'Restaurant Cafe'\n",
      " ' Bí_rek' ' World Cuisine'] \n",
      "\n",
      "['Botswana Pula(P)' 'Brazilian Real(R$)' 'Dollar($)' 'Emirati Diram(AED)'\n",
      " 'Indian Rupees(Rs.)' 'Indonesian Rupiah(IDR)' 'NewZealand($)'\n",
      " 'Pounds(\\x8c£)' 'Qatari Rial(QR)' 'Rand(R)' 'Sri Lankan Rupee(LKR)'\n",
      " 'Turkish Lira(TL)'] \n",
      "\n",
      "['Yes' 'No'] \n",
      "\n",
      "['No' 'Yes'] \n",
      "\n",
      "['No' 'Yes'] \n",
      "\n",
      "['Dark Green' 'Green' 'Yellow' 'Orange' 'White' 'Red'] \n",
      "\n",
      "['Excellent' 'Very Good' 'Good' 'Average' 'Not rated' 'Poor'] \n",
      "\n",
      "['Phillipines' 'Brazil' 'United States' 'Australia' 'Canada' 'Singapore'\n",
      " 'UAE' 'India' 'Indonesia' 'New Zealand' 'United Kingdom' 'Qatar'\n",
      " 'South Africa' 'Sri Lanka' 'Turkey'] \n",
      "\n"
     ]
    }
   ],
   "source": [
    "for feature in data.columns:                                  #we are leaving behind because they have so many unique values and thay are id's\n",
    "    if data[feature].dtypes == 'object' and feature not in ['Restaurant ID', 'Restaurant Name', 'Country Code' ]:                                                             \n",
    "        print(data[feature].unique(),\"\\n\")"
   ]
  },
  {
   "cell_type": "markdown",
   "id": "121a3bcf-9298-4d5a-9096-0ddcb20b18aa",
   "metadata": {},
   "source": [
    "we can see in the above output that there are some repeated Cuisines with added white spaces to them"
   ]
  },
  {
   "cell_type": "code",
   "execution_count": 38,
   "id": "102e2053-ce76-4ee9-b6a3-b63f34c2e4a2",
   "metadata": {},
   "outputs": [
    {
     "data": {
      "text/plain": [
       "249"
      ]
     },
     "execution_count": 38,
     "metadata": {},
     "output_type": "execute_result"
    }
   ],
   "source": [
    "#no of uinque categories(cuisines)\n",
    "data.Cuisines.nunique()"
   ]
  },
  {
   "cell_type": "markdown",
   "id": "71ce4c3f-ce3e-401b-b236-dfdefbe08ef5",
   "metadata": {},
   "source": [
    "<b>Cuisines</b> : let's trim the white spaces in the Cuisines categories "
   ]
  },
  {
   "cell_type": "code",
   "execution_count": 39,
   "id": "05d06028-b9b2-414a-be6d-d2c27c3a42d5",
   "metadata": {},
   "outputs": [],
   "source": [
    "#copy the data frame\n",
    "data_copy = data.copy()\n",
    "\n",
    "#using strip function to remove white spaces\n",
    "data_copy.Cuisines =  data_copy.Cuisines.str.strip()"
   ]
  },
  {
   "cell_type": "code",
   "execution_count": 40,
   "id": "3edd840d-485c-4100-a8db-2743d7f54230",
   "metadata": {},
   "outputs": [
    {
     "data": {
      "text/plain": [
       "array(['French', 'Japanese', 'Desserts', 'Seafood', 'Asian', 'Filipino',\n",
       "       'Indian', 'Sushi', 'Korean', 'Chinese', 'European', 'Mexican',\n",
       "       'American', 'Ice Cream', 'Cafe', 'Italian', 'Pizza', 'Bakery',\n",
       "       'Mediterranean', 'Fast Food', 'Brazilian', 'Arabian', 'Bar Food',\n",
       "       'Grill', 'International', 'Peruvian', 'Latin American', 'Burger',\n",
       "       'Juices', 'Healthy Food', 'Beverages', 'Lebanese', 'Sandwich',\n",
       "       'Steak', 'BBQ', 'Gourmet Fast Food', 'Mineira', 'North Eastern',\n",
       "       'Coffee and Tea', 'Vegetarian', 'Tapas', 'Breakfast', 'Diner',\n",
       "       'Southern', 'Southwestern', 'Spanish', 'Argentine', 'Caribbean',\n",
       "       'German', 'Vietnamese', 'Thai', 'Teriyaki', 'Cajun', 'Tex-Mex',\n",
       "       'Middle Eastern', 'Greek', 'Bubble Tea', 'Cuban', 'Hawaiian',\n",
       "       'Salad', 'Irish', 'New American', 'Tea', 'Soul Food', 'Turkish',\n",
       "       'Pub Food', 'Persian', 'British', 'Deli', 'Modern Australian',\n",
       "       'Australian', 'Fusion', 'Canadian', 'Continental', 'Singaporean',\n",
       "       'Malay', 'Cantonese', 'Dim Sum', 'Western', 'Finger Food',\n",
       "       'Indonesian', 'North Indian', 'Mughlai', 'Biryani', 'South Indian',\n",
       "       'Pakistani', 'Afghani', 'Hyderabadi', 'Rajasthani', 'Street Food',\n",
       "       'Goan', 'African', 'Portuguese', 'Gujarati', 'Armenian', 'Mithai',\n",
       "       'Maharashtrian', 'Modern Indian', 'Charcoal Grill', 'Malaysian',\n",
       "       'Burmese', 'Chettinad', 'Parsi', 'Tibetan', 'Raw Meats', 'Kerala',\n",
       "       'Belgian', 'Kashmiri', 'South American', 'Bengali', 'Iranian',\n",
       "       'Lucknowi', 'Awadhi', 'Nepalese', 'Drinks Only', 'Oriya', 'Bihari',\n",
       "       'Assamese', 'Andhra', 'Mangalorean', 'Malwani', 'Cuisine Varies',\n",
       "       'Moroccan', 'Naga', 'Sri Lankan', 'Peranakan', 'Sunda', 'Ramen',\n",
       "       'Kiwi', 'Asian Fusion', 'Taiwanese', 'Fish and Chips',\n",
       "       'Contemporary', 'Scottish', 'Curry', 'Patisserie', 'South African',\n",
       "       'Durban', 'Kebab', 'Turkish Pizza', 'Izgara', 'World Cuisine',\n",
       "       'Dí_ner', 'Restaurant Cafe', 'Bí_rek'], dtype=object)"
      ]
     },
     "execution_count": 40,
     "metadata": {},
     "output_type": "execute_result"
    }
   ],
   "source": [
    "data = data_copy #storing back into original variable\n",
    "\n",
    "#check the unique categories in Cuisines\n",
    "data.Cuisines.unique()"
   ]
  },
  {
   "cell_type": "code",
   "execution_count": 41,
   "id": "56856fb3-4656-47d3-a03c-61ae14b07ca1",
   "metadata": {},
   "outputs": [
    {
     "data": {
      "text/plain": [
       "145"
      ]
     },
     "execution_count": 41,
     "metadata": {},
     "output_type": "execute_result"
    }
   ],
   "source": [
    "#no of unique categories in the Cuisines\n",
    "data.Cuisines.nunique() "
   ]
  },
  {
   "cell_type": "markdown",
   "id": "d9a2eabf-04b6-480b-9f0d-8cedcb85806d",
   "metadata": {},
   "source": [
    "Now after removing white spaces around each category, we have only <b>145</b> Categories in Cuisines"
   ]
  },
  {
   "cell_type": "markdown",
   "id": "cd6fdc70-ab8b-42b8-920b-e86606fd9192",
   "metadata": {},
   "source": [
    "Every Quality issue and Tidiness issue which we found above are corrected"
   ]
  },
  {
   "cell_type": "code",
   "execution_count": 42,
   "id": "15750746-023f-4f69-97a7-a99e90753d8f",
   "metadata": {},
   "outputs": [],
   "source": [
    "#storing the data frame into SQLite3 database which may be helpful for analysis\n",
    "# create connection to in memory sqlite db\n",
    "with sqlite3.connect(\":memory:\") as conn:\n",
    "\n",
    "    # save prices dataframe to sqlite db\n",
    "    data.to_sql(name=\"data_db\", con=conn, index=False)\n"
   ]
  },
  {
   "cell_type": "markdown",
   "id": "9a2aaa6a-cb16-439a-a064-1a7aa55802f4",
   "metadata": {
    "tags": []
   },
   "source": [
    "# Data Analysis\n",
    "1. Univariate Analysis\n",
    "2. Multivariate Analysis"
   ]
  },
  {
   "cell_type": "markdown",
   "id": "4a520887-2ba7-4588-909d-40f181b1cc56",
   "metadata": {
    "tags": []
   },
   "source": [
    "## Univariate Analysis"
   ]
  },
  {
   "cell_type": "markdown",
   "id": "30ff0756-9628-412e-b064-148073d9d8eb",
   "metadata": {
    "tags": []
   },
   "source": [
    "### Numerical Features\n",
    "- Types\n",
    "1. Countinuous\n",
    "2. Discerete"
   ]
  },
  {
   "cell_type": "code",
   "execution_count": 43,
   "id": "0713eccb-271c-4d79-853b-4217dbd9c658",
   "metadata": {},
   "outputs": [
    {
     "data": {
      "text/html": [
       "<div>\n",
       "<style scoped>\n",
       "    .dataframe tbody tr th:only-of-type {\n",
       "        vertical-align: middle;\n",
       "    }\n",
       "\n",
       "    .dataframe tbody tr th {\n",
       "        vertical-align: top;\n",
       "    }\n",
       "\n",
       "    .dataframe thead th {\n",
       "        text-align: right;\n",
       "    }\n",
       "</style>\n",
       "<table border=\"1\" class=\"dataframe\">\n",
       "  <thead>\n",
       "    <tr style=\"text-align: right;\">\n",
       "      <th></th>\n",
       "      <th>Longitude</th>\n",
       "      <th>Latitude</th>\n",
       "      <th>Average Cost for two</th>\n",
       "      <th>Price range</th>\n",
       "      <th>Aggregate rating</th>\n",
       "      <th>Votes</th>\n",
       "    </tr>\n",
       "  </thead>\n",
       "  <tbody>\n",
       "    <tr>\n",
       "      <th>count</th>\n",
       "      <td>19710.000000</td>\n",
       "      <td>19710.000000</td>\n",
       "      <td>19710.000000</td>\n",
       "      <td>19710.000000</td>\n",
       "      <td>19710.000000</td>\n",
       "      <td>19710.000000</td>\n",
       "    </tr>\n",
       "    <tr>\n",
       "      <th>mean</th>\n",
       "      <td>64.523947</td>\n",
       "      <td>25.682449</td>\n",
       "      <td>1313.626332</td>\n",
       "      <td>1.954947</td>\n",
       "      <td>2.866048</td>\n",
       "      <td>198.620294</td>\n",
       "    </tr>\n",
       "    <tr>\n",
       "      <th>std</th>\n",
       "      <td>40.901488</td>\n",
       "      <td>11.031322</td>\n",
       "      <td>16712.823852</td>\n",
       "      <td>0.920780</td>\n",
       "      <td>1.412901</td>\n",
       "      <td>497.683684</td>\n",
       "    </tr>\n",
       "    <tr>\n",
       "      <th>min</th>\n",
       "      <td>-157.948486</td>\n",
       "      <td>-41.330428</td>\n",
       "      <td>0.000000</td>\n",
       "      <td>1.000000</td>\n",
       "      <td>0.000000</td>\n",
       "      <td>0.000000</td>\n",
       "    </tr>\n",
       "    <tr>\n",
       "      <th>25%</th>\n",
       "      <td>77.080263</td>\n",
       "      <td>28.470002</td>\n",
       "      <td>300.000000</td>\n",
       "      <td>1.000000</td>\n",
       "      <td>2.700000</td>\n",
       "      <td>8.000000</td>\n",
       "    </tr>\n",
       "    <tr>\n",
       "      <th>50%</th>\n",
       "      <td>77.190886</td>\n",
       "      <td>28.567741</td>\n",
       "      <td>500.000000</td>\n",
       "      <td>2.000000</td>\n",
       "      <td>3.300000</td>\n",
       "      <td>47.000000</td>\n",
       "    </tr>\n",
       "    <tr>\n",
       "      <th>75%</th>\n",
       "      <td>77.280762</td>\n",
       "      <td>28.640954</td>\n",
       "      <td>800.000000</td>\n",
       "      <td>3.000000</td>\n",
       "      <td>3.800000</td>\n",
       "      <td>175.000000</td>\n",
       "    </tr>\n",
       "    <tr>\n",
       "      <th>max</th>\n",
       "      <td>174.832089</td>\n",
       "      <td>55.976980</td>\n",
       "      <td>800000.000000</td>\n",
       "      <td>4.000000</td>\n",
       "      <td>4.900000</td>\n",
       "      <td>10934.000000</td>\n",
       "    </tr>\n",
       "  </tbody>\n",
       "</table>\n",
       "</div>"
      ],
      "text/plain": [
       "          Longitude      Latitude  Average Cost for two   Price range  \\\n",
       "count  19710.000000  19710.000000          19710.000000  19710.000000   \n",
       "mean      64.523947     25.682449           1313.626332      1.954947   \n",
       "std       40.901488     11.031322          16712.823852      0.920780   \n",
       "min     -157.948486    -41.330428              0.000000      1.000000   \n",
       "25%       77.080263     28.470002            300.000000      1.000000   \n",
       "50%       77.190886     28.567741            500.000000      2.000000   \n",
       "75%       77.280762     28.640954            800.000000      3.000000   \n",
       "max      174.832089     55.976980         800000.000000      4.000000   \n",
       "\n",
       "       Aggregate rating         Votes  \n",
       "count      19710.000000  19710.000000  \n",
       "mean           2.866048    198.620294  \n",
       "std            1.412901    497.683684  \n",
       "min            0.000000      0.000000  \n",
       "25%            2.700000      8.000000  \n",
       "50%            3.300000     47.000000  \n",
       "75%            3.800000    175.000000  \n",
       "max            4.900000  10934.000000  "
      ]
     },
     "execution_count": 43,
     "metadata": {},
     "output_type": "execute_result"
    }
   ],
   "source": [
    "data.describe()"
   ]
  },
  {
   "cell_type": "code",
   "execution_count": 44,
   "id": "090ec789-9a91-4ff8-b928-60525d424fc1",
   "metadata": {},
   "outputs": [
    {
     "name": "stdout",
     "output_type": "stream",
     "text": [
      "Count of numerical_features: 6  -> ['Longitude', 'Latitude', 'Average Cost for two', 'Price range', 'Aggregate rating', 'Votes']\n"
     ]
    }
   ],
   "source": [
    "#let's extact list of all numerical variables into a variable numerical_features\n",
    "numerical_features = [feature for feature in data.columns if data[feature].dtypes != 'object']\n",
    "\n",
    "print(\"Count of numerical_features:\", len(numerical_features),\" ->\", numerical_features)"
   ]
  },
  {
   "cell_type": "markdown",
   "id": "2846a0ba-c4ac-455c-9e67-55a818e65ccd",
   "metadata": {},
   "source": [
    "<b>Countinuous Features"
   ]
  },
  {
   "cell_type": "code",
   "execution_count": 45,
   "id": "3c4969a5-15f8-4dbf-91d5-d4da6a12a904",
   "metadata": {},
   "outputs": [
    {
     "name": "stdout",
     "output_type": "stream",
     "text": [
      "Count of Countinuous_featues: 5 -> ['Longitude', 'Latitude', 'Average Cost for two', 'Aggregate rating', 'Votes']\n"
     ]
    }
   ],
   "source": [
    "countinuous_features = [feature for feature in numerical_features if len(data[feature].unique()) >= 10 ]\n",
    "\n",
    "print(\"Count of Countinuous_featues:\", len(countinuous_features), \"->\", countinuous_features)"
   ]
  },
  {
   "cell_type": "code",
   "execution_count": 46,
   "id": "4e15534a-698f-4e0e-8ac3-bd605d5aebbc",
   "metadata": {},
   "outputs": [
    {
     "data": {
      "image/png": "[encoded data removed]",
      "text/plain": [
       "<Figure size 1800x2000 with 5 Axes>"
      ]
     },
     "metadata": {},
     "output_type": "display_data"
    }
   ],
   "source": [
    "plt.figure(figsize=(18, 20))\n",
    "plt.suptitle(\"Countinuous Features\", fontsize=30)\n",
    "\n",
    "\n",
    "for i in range(0, len(countinuous_features)):\n",
    "    plt.subplot(3, 2, i+1)\n",
    "    sns.kdeplot(x=data[countinuous_features[i]], fill=True, color='blue')\n",
    "    #plt.show()"
   ]
  },
  {
   "cell_type": "markdown",
   "id": "13d714b2-02fd-49c5-a9d5-5510f823292d",
   "metadata": {},
   "source": [
    "* <b>Average Cost for two"
   ]
  },
  {
   "cell_type": "code",
   "execution_count": 47,
   "id": "48b55ef6-8456-48da-9b9e-bf84e157cafa",
   "metadata": {},
   "outputs": [
    {
     "data": {
      "text/plain": [
       "count     19710.000000\n",
       "mean       1313.626332\n",
       "std       16712.823852\n",
       "min           0.000000\n",
       "25%         300.000000\n",
       "50%         500.000000\n",
       "75%         800.000000\n",
       "max      800000.000000\n",
       "Name: Average Cost for two, dtype: float64"
      ]
     },
     "execution_count": 47,
     "metadata": {},
     "output_type": "execute_result"
    }
   ],
   "source": [
    "data['Average Cost for two'].describe()"
   ]
  },
  {
   "cell_type": "markdown",
   "id": "b378a2e7-2bcc-4c46-9583-b3b4a508ed36",
   "metadata": {},
   "source": [
    " most of the values in the 'Average Cost for two' are below 800 as we can see that 75 percentile is 800 but max is 800000"
   ]
  },
  {
   "cell_type": "markdown",
   "id": "64180d7b-c4e4-47ad-8f8e-83c14c22cfe2",
   "metadata": {},
   "source": [
    "* <b>Aggregate rating"
   ]
  },
  {
   "cell_type": "code",
   "execution_count": 48,
   "id": "8941250d-91c0-460d-ae05-bc6fc8077225",
   "metadata": {},
   "outputs": [
    {
     "data": {
      "text/plain": [
       "count    19710.000000\n",
       "mean         2.866048\n",
       "std          1.412901\n",
       "min          0.000000\n",
       "25%          2.700000\n",
       "50%          3.300000\n",
       "75%          3.800000\n",
       "max          4.900000\n",
       "Name: Aggregate rating, dtype: float64"
      ]
     },
     "execution_count": 48,
     "metadata": {},
     "output_type": "execute_result"
    }
   ],
   "source": [
    "data['Aggregate rating'].describe()"
   ]
  },
  {
   "cell_type": "markdown",
   "id": "0347a050-0952-482a-a25e-bcf537316ddc",
   "metadata": {},
   "source": [
    "Most are of them are are between 3 to 4 and secondly most of them are 0"
   ]
  },
  {
   "cell_type": "markdown",
   "id": "77142692-ffd6-440e-8e2d-e61b7b46d31f",
   "metadata": {},
   "source": [
    "* <b>Votes"
   ]
  },
  {
   "cell_type": "code",
   "execution_count": 49,
   "id": "0318834a-4436-48ec-a6f2-238552750bbd",
   "metadata": {},
   "outputs": [
    {
     "data": {
      "text/plain": [
       "count    19710.000000\n",
       "mean       198.620294\n",
       "std        497.683684\n",
       "min          0.000000\n",
       "25%          8.000000\n",
       "50%         47.000000\n",
       "75%        175.000000\n",
       "max      10934.000000\n",
       "Name: Votes, dtype: float64"
      ]
     },
     "execution_count": 49,
     "metadata": {},
     "output_type": "execute_result"
    }
   ],
   "source": [
    "data['Votes'].describe()"
   ]
  },
  {
   "cell_type": "markdown",
   "id": "7d8a4e9e-ce5e-4cea-8f70-c4a6d09e2b3a",
   "metadata": {},
   "source": [
    "Most of the restaurants received votes less than 175 as we see 75 percentile is 175 but max is 10934"
   ]
  },
  {
   "cell_type": "markdown",
   "id": "a5b51577-ea9a-4b9e-9749-6bcff6e2391f",
   "metadata": {},
   "source": [
    "<b>Discrete Features"
   ]
  },
  {
   "cell_type": "code",
   "execution_count": 50,
   "id": "25ef6d89-0a63-49ec-853a-7a901592d618",
   "metadata": {},
   "outputs": [
    {
     "name": "stdout",
     "output_type": "stream",
     "text": [
      "Count of discrete_features: 1 -> ['Price range']\n"
     ]
    }
   ],
   "source": [
    "discrete_features = [feature for feature in numerical_features if len(data[feature].unique()) < 10 ]\n",
    "\n",
    "print(\"Count of discrete_features:\", len(discrete_features), \"->\", discrete_features)"
   ]
  },
  {
   "cell_type": "code",
   "execution_count": 51,
   "id": "1281e077-395b-43bd-a586-3cc8753d83ab",
   "metadata": {},
   "outputs": [
    {
     "data": {
      "image/png": "[encoded data removed]",
      "text/plain": [
       "<Figure size 640x480 with 1 Axes>"
      ]
     },
     "metadata": {},
     "output_type": "display_data"
    }
   ],
   "source": [
    "sns.countplot(x=data['Price range'])\n",
    "plt.show()"
   ]
  },
  {
   "cell_type": "markdown",
   "id": "0672233c-bda8-412c-8b74-6d1349a1b380",
   "metadata": {},
   "source": [
    "<b>Price range</b> : Most of Cusines are of price range 1 and least of them are of price range 4"
   ]
  },
  {
   "cell_type": "markdown",
   "id": "62968801-0454-4d8f-a3eb-d6136ff859ab",
   "metadata": {},
   "source": [
    "### Categorical Features"
   ]
  },
  {
   "cell_type": "code",
   "execution_count": 52,
   "id": "c91c3cb0-cb01-4a5a-b725-486d1750f3c8",
   "metadata": {},
   "outputs": [
    {
     "name": "stdout",
     "output_type": "stream",
     "text": [
      "Count of categorical features: 13  -> ['Restaurant ID', 'Restaurant Name', 'Country Code', 'City', 'Locality', 'Cuisines', 'Currency', 'Has Table booking', 'Has Online delivery', 'Is delivering now', 'Rating color', 'Rating text', 'Country']\n"
     ]
    }
   ],
   "source": [
    "#let's extact list of all numerical variables into a variable numerical_features\n",
    "categorical_features = [feature for feature in data.columns if data[feature].dtypes == 'object']\n",
    "\n",
    "print(\"Count of categorical features:\", len(categorical_features),\" ->\", categorical_features)"
   ]
  },
  {
   "cell_type": "code",
   "execution_count": 53,
   "id": "e5da8413-7a28-4ce1-8cee-95d73dcbb19d",
   "metadata": {},
   "outputs": [
    {
     "data": {
      "image/png": "[encoded data removed]",
      "text/plain": [
       "<Figure size 1500x2000 with 5 Axes>"
      ]
     },
     "metadata": {},
     "output_type": "display_data"
    }
   ],
   "source": [
    "plt.figure(figsize=(15, 20))\n",
    "plt.suptitle(\"Categorical Features\", fontsize=30)\n",
    "\n",
    "i=0\n",
    "for feature in ['Has Table booking', 'Has Online delivery', 'Is delivering now', 'Rating color', 'Rating text']: #taken variables which are visualizable only\n",
    "    plt.subplot(3, 2, i+1)\n",
    "    sns.countplot(x=data[feature])\n",
    "    i=i+1\n",
    "    #plt.show()\n",
    "    "
   ]
  },
  {
   "cell_type": "markdown",
   "id": "5078e4bc-2ab3-44e2-932b-a86c080a63f7",
   "metadata": {},
   "source": [
    "* 'Has Table booking' - Most of the restaurants has no table booking \n",
    "* 'Has Online delivery' - Most of the restauranrs has no online delivery\n",
    "* 'Is delivering now' - Most of the restaurents are not delivering online\n",
    "* 'Rating text' - Most them given Average rating \n",
    "* 'Rating color' - Corresponding to Rating text orange represents average rating and red represents poor"
   ]
  },
  {
   "cell_type": "code",
   "execution_count": 54,
   "id": "8168f4ad-86ec-4a88-ae6a-52a3d1c16409",
   "metadata": {},
   "outputs": [],
   "source": [
    "###"
   ]
  },
  {
   "cell_type": "markdown",
   "id": "e3ed3dda-8788-40c1-8a1e-0cd856229a57",
   "metadata": {},
   "source": [
    "## Multivariate Analysis"
   ]
  },
  {
   "cell_type": "markdown",
   "id": "754cfdf7-64d6-4aa8-b398-1e25449d0cb1",
   "metadata": {},
   "source": [
    "##### Country vs No of Cuisines"
   ]
  },
  {
   "cell_type": "code",
   "execution_count": 55,
   "id": "41d7669f-7ea1-46bb-9c5c-ead4b0b7b0ff",
   "metadata": {},
   "outputs": [
    {
     "data": {
      "image/png": "[encoded data removed]",
      "text/plain": [
       "<Figure size 1500x500 with 1 Axes>"
      ]
     },
     "metadata": {},
     "output_type": "display_data"
    }
   ],
   "source": [
    "plt.figure(figsize=(15,5))\n",
    "plt.suptitle('Country vs No of Cuisines', fontsize=20)\n",
    "\n",
    "#groupby country extracting distinct count of cuisines\n",
    "data.groupby(['Country'])['Cuisines'].nunique().sort_values(ascending=False).plot(kind='bar', rot=45)\n",
    "plt.show()"
   ]
  },
  {
   "cell_type": "code",
   "execution_count": 56,
   "id": "805e6acb-2d86-47fd-a628-ff9d8ada197f",
   "metadata": {},
   "outputs": [
    {
     "data": {
      "text/plain": [
       "Country\n",
       "India             90\n",
       "United States     58\n",
       "United Kingdom    40\n",
       "South Africa      38\n",
       "UAE               38\n",
       "Brazil            31\n",
       "Singapore         29\n",
       "New Zealand       26\n",
       "Indonesia         19\n",
       "Phillipines       19\n",
       "Qatar             19\n",
       "Sri Lanka         18\n",
       "Turkey            18\n",
       "Australia         17\n",
       "Canada             8\n",
       "Name: Cuisines, dtype: int64"
      ]
     },
     "execution_count": 56,
     "metadata": {},
     "output_type": "execute_result"
    }
   ],
   "source": [
    "data.groupby(['Country'])['Cuisines'].nunique().sort_values(ascending=False)"
   ]
  },
  {
   "cell_type": "markdown",
   "id": "4772dec0-5feb-4a02-b03c-7f423ae8a089",
   "metadata": {},
   "source": [
    "<b>India</b> has the most number of cuisines <b>(90)</b>, followed by <b>United States(58)</b> and <b>Canada has the least (8)"
   ]
  },
  {
   "cell_type": "markdown",
   "id": "4bcf9735-4f24-49df-b4bd-bfe3db131c38",
   "metadata": {},
   "source": [
    "##### Country vs No of Restaurants"
   ]
  },
  {
   "cell_type": "code",
   "execution_count": 57,
   "id": "0f329cd3-728c-401c-ae81-40a935028198",
   "metadata": {},
   "outputs": [
    {
     "data": {
      "image/png": "[encoded data removed]",
      "text/plain": [
       "<Figure size 1500x500 with 1 Axes>"
      ]
     },
     "metadata": {},
     "output_type": "display_data"
    }
   ],
   "source": [
    "plt.figure(figsize=(15,5))\n",
    "plt.suptitle('Country vs No of Restaurants', fontsize=20)\n",
    "\n",
    "#groupby country extracting distinct count of Restaurants\n",
    "data.groupby(['Country'])['Restaurant ID'].nunique().sort_values(ascending=False).plot(kind='bar', rot=45)\n",
    "plt.show()"
   ]
  },
  {
   "cell_type": "code",
   "execution_count": 58,
   "id": "4f2c4d5a-a193-44a4-b3c2-c2b04429bef8",
   "metadata": {},
   "outputs": [
    {
     "data": {
      "text/plain": [
       "Country\n",
       "India             8652\n",
       "United States      425\n",
       "United Kingdom      80\n",
       "Brazil              60\n",
       "South Africa        60\n",
       "UAE                 60\n",
       "New Zealand         40\n",
       "Turkey              34\n",
       "Australia           24\n",
       "Phillipines         22\n",
       "Indonesia           21\n",
       "Qatar               20\n",
       "Singapore           20\n",
       "Sri Lanka           20\n",
       "Canada               4\n",
       "Name: Restaurant ID, dtype: int64"
      ]
     },
     "execution_count": 58,
     "metadata": {},
     "output_type": "execute_result"
    }
   ],
   "source": [
    "data.groupby(['Country'])['Restaurant ID'].nunique().sort_values(ascending=False)"
   ]
  },
  {
   "cell_type": "markdown",
   "id": "0beedd4a-6e5b-435d-b1c6-f274273e8772",
   "metadata": {},
   "source": [
    "India has the most number of Restaurants (8652), followed by United States(425) and Canada has the least (4)"
   ]
  },
  {
   "cell_type": "markdown",
   "id": "6c35584b-2830-434a-8509-714c0620d6e9",
   "metadata": {
    "tags": []
   },
   "source": [
    "##### Countries and their mean ratings"
   ]
  },
  {
   "cell_type": "code",
   "execution_count": 59,
   "id": "85720f52-dd8a-4272-95de-b662df8aba93",
   "metadata": {},
   "outputs": [
    {
     "data": {
      "text/plain": [
       "<AxesSubplot:xlabel='Country'>"
      ]
     },
     "execution_count": 59,
     "metadata": {},
     "output_type": "execute_result"
    },
    {
     "data": {
      "image/png": "[encoded data removed]",
      "text/plain": [
       "<Figure size 1500x500 with 1 Axes>"
      ]
     },
     "metadata": {},
     "output_type": "display_data"
    }
   ],
   "source": [
    "plt.figure(figsize=(15,5))\n",
    "plt.suptitle('Countries and their mean ratings', fontsize=20)\n",
    "\n",
    "data.groupby(['Country'])['Aggregate rating'].mean().sort_values(ascending=False).plot(kind='bar', rot=45)"
   ]
  },
  {
   "cell_type": "code",
   "execution_count": 60,
   "id": "41850ad3-cd1c-4b63-b8af-9d7084a17989",
   "metadata": {},
   "outputs": [
    {
     "data": {
      "text/plain": [
       "Country\n",
       "Phillipines       4.442593\n",
       "Indonesia         4.334043\n",
       "Turkey            4.282456\n",
       "New Zealand       4.200000\n",
       "UAE               4.194853\n",
       "South Africa      4.166279\n",
       "United Kingdom    4.052667\n",
       "United States     4.009276\n",
       "Qatar             3.987879\n",
       "Brazil            3.851000\n",
       "Sri Lanka         3.802174\n",
       "Canada            3.700000\n",
       "Australia         3.689796\n",
       "Singapore         3.486275\n",
       "India             2.744108\n",
       "Name: Aggregate rating, dtype: float64"
      ]
     },
     "execution_count": 60,
     "metadata": {},
     "output_type": "execute_result"
    }
   ],
   "source": [
    "data.groupby(['Country'])['Aggregate rating'].mean().sort_values(ascending=False)"
   ]
  },
  {
   "cell_type": "markdown",
   "id": "628a654e-82b1-4323-958c-1fad69acfa6c",
   "metadata": {},
   "source": [
    "Phillipines has the highest mean ratings (4.442593) and India has least mean ratings (2.744108)"
   ]
  },
  {
   "cell_type": "markdown",
   "id": "95ae994a-0ec0-48cb-9a9d-f1ce08585054",
   "metadata": {},
   "source": [
    "##### Countries that have online deliveries"
   ]
  },
  {
   "cell_type": "code",
   "execution_count": 61,
   "id": "d5872f7a-9e07-4f45-b86c-0c856bc574e9",
   "metadata": {},
   "outputs": [
    {
     "data": {
      "text/plain": [
       "Has Online delivery  Country\n",
       "Yes                  India      5729\n",
       "                     UAE          72\n",
       "dtype: int64"
      ]
     },
     "execution_count": 61,
     "metadata": {},
     "output_type": "execute_result"
    }
   ],
   "source": [
    "data[data['Has Online delivery']=='Yes'].groupby(['Has Online delivery', 'Country']).size()"
   ]
  },
  {
   "cell_type": "markdown",
   "id": "73b8d720-e16c-4dd1-adad-604528e7f563",
   "metadata": {},
   "source": [
    "we can see that INDIA and UAE has the online delivery with (5729) and (72) as no of cuisines that has online delivery respectively"
   ]
  },
  {
   "cell_type": "markdown",
   "id": "0935de84-dd78-4fe3-b90b-6e426c05f9ee",
   "metadata": {},
   "source": [
    "##### Analysis of Cities in INDIA "
   ]
  },
  {
   "cell_type": "markdown",
   "id": "cd993c28-b36c-4d31-abfe-32f1f50d7429",
   "metadata": {},
   "source": [
    "* Top 5 Cities in India"
   ]
  },
  {
   "cell_type": "code",
   "execution_count": 72,
   "id": "58038e21-d7e7-4f61-b2ba-f35532c68640",
   "metadata": {},
   "outputs": [
    {
     "data": {
      "text/plain": [
       "<AxesSubplot:ylabel='Cuisines'>"
      ]
     },
     "execution_count": 72,
     "metadata": {},
     "output_type": "execute_result"
    },
    {
     "data": {
      "image/png": "[encoded data removed]",
      "text/plain": [
       "<Figure size 1500x700 with 1 Axes>"
      ]
     },
     "metadata": {},
     "output_type": "display_data"
    }
   ],
   "source": [
    "plt.figure(figsize=(15,7))\n",
    "plt.suptitle('Top 5 Cities in India with no of Cuisines', fontsize=20)\n",
    "\n",
    "data[data.Country=='India'].groupby('City')['Cuisines'].nunique().sort_values(ascending=False).head().plot(kind='pie', autopct='%1.2f%%')"
   ]
  },
  {
   "cell_type": "code",
   "execution_count": 73,
   "id": "100a986b-ef42-46b6-82a8-774b9da05a66",
   "metadata": {},
   "outputs": [
    {
     "data": {
      "text/plain": [
       "City\n",
       "New Delhi    81\n",
       "Gurgaon      71\n",
       "Noida        49\n",
       "Faridabad    30\n",
       "Mumbai       26\n",
       "Name: Cuisines, dtype: int64"
      ]
     },
     "execution_count": 73,
     "metadata": {},
     "output_type": "execute_result"
    }
   ],
   "source": [
    "data[data.Country=='India'].groupby('City')['Cuisines'].nunique().sort_values(ascending=False).head()"
   ]
  },
  {
   "cell_type": "markdown",
   "id": "21a57c09-0df9-4d92-80d3-e0edcdcd5d29",
   "metadata": {},
   "source": [
    "We can see the top 5 cities with more no of cuisines and New Delhi has the highest from above"
   ]
  },
  {
   "cell_type": "markdown",
   "id": "90a1545d-e9b4-49e1-93b6-cd2bca898431",
   "metadata": {},
   "source": [
    "* Cities and their 'Average Cost for two'¶"
   ]
  },
  {
   "cell_type": "code",
   "execution_count": 160,
   "id": "48c21996-d6fc-422c-b85d-87c1d26a7240",
   "metadata": {},
   "outputs": [
    {
     "data": {
      "text/plain": [
       "City\n",
       "Faridabad        476.653307\n",
       "Allahabad        512.765957\n",
       "Amritsar         545.714286\n",
       "Mohali           550.000000\n",
       "Varanasi         565.714286\n",
       "Bhopal           566.250000\n",
       "Noida            606.490826\n",
       "Ghaziabad        673.404255\n",
       "New Delhi        681.959956\n",
       "Aurangabad       700.961538\n",
       "Bhubaneshwar     721.296296\n",
       "Nashik           722.727273\n",
       "Ranchi           727.884615\n",
       "Dehradun         745.652174\n",
       "Gurgaon          784.508985\n",
       "Nagpur           787.500000\n",
       "Kochi            794.827586\n",
       "Patna            800.909091\n",
       "Vizag            802.500000\n",
       "Guwahati         808.928571\n",
       "Mangalore        811.904762\n",
       "Secunderabad     825.000000\n",
       "Coimbatore       826.530612\n",
       "Mysore           863.617021\n",
       "Ahmedabad        866.447368\n",
       "Vadodara         867.391304\n",
       "Surat            869.387755\n",
       "Kanpur           878.846154\n",
       "Agra             953.061224\n",
       "Lucknow          958.035714\n",
       "Indore           977.678571\n",
       "Puducherry      1030.681818\n",
       "Mumbai          1071.052632\n",
       "Chandigarh      1075.000000\n",
       "Chennai         1145.967742\n",
       "Goa             1151.724138\n",
       "Bangalore       1152.631579\n",
       "Ludhiana        1155.357143\n",
       "Kolkata         1241.346154\n",
       "Jaipur          1295.394737\n",
       "Pune            1350.833333\n",
       "Hyderabad       1391.379310\n",
       "Panchkula       2000.000000\n",
       "Name: Average Cost for two, dtype: float64"
      ]
     },
     "execution_count": 160,
     "metadata": {},
     "output_type": "execute_result"
    }
   ],
   "source": [
    "data[data.Country=='India'].groupby('City')['Average Cost for two'].mean().sort_values()"
   ]
  },
  {
   "cell_type": "markdown",
   "id": "c4987be7-0ed9-4247-8782-081a3e63a279",
   "metadata": {},
   "source": [
    "* Faridabad', 'Allahabad', 'Amritsar', 'Mohali' and  'Varanasi' are the top 5 cities with low 'Average Cost for two'\n",
    "\n",
    "* 'Panchkula', 'Hyderabad', 'Pune', 'Jaipur' and  'Kolkata' are the bottom 5 cities with low 'Average Cost for two'"
   ]
  },
  {
   "cell_type": "markdown",
   "id": "5554ca42-040d-4886-b63b-ef7d383bcf4d",
   "metadata": {},
   "source": [
    "##### Indian Cities vs No of votes"
   ]
  },
  {
   "cell_type": "code",
   "execution_count": 187,
   "id": "98432e7b-fb71-4000-b8bd-a42fc8481231",
   "metadata": {},
   "outputs": [
    {
     "data": {
      "image/png": "[encoded data removed]",
      "text/plain": [
       "<Figure size 1800x700 with 1 Axes>"
      ]
     },
     "metadata": {},
     "output_type": "display_data"
    }
   ],
   "source": [
    "plt.figure(figsize=(18,7))\n",
    "plt.title('Top 10 Indian Cities with more no of votes')\n",
    "\n",
    "data[data.Country=='India'].groupby('City')['Votes'].sum().sort_values(ascending=False).head(10).plot(kind='bar', rot=45)\n",
    "plt.show()"
   ]
  },
  {
   "cell_type": "markdown",
   "id": "df3a4305-e7cf-4032-88dd-275040a06b1f",
   "metadata": {},
   "source": [
    "##### Indian Cuisines vs 'Average Cost for two'"
   ]
  },
  {
   "cell_type": "code",
   "execution_count": 88,
   "id": "914dad18-c6b9-4805-bea4-08bc08dc5beb",
   "metadata": {},
   "outputs": [
    {
     "data": {
      "text/plain": [
       "Cuisines\n",
       "Mithai             257.631579\n",
       "Street Food        263.303249\n",
       "Ice Cream          297.777778\n",
       "Raw Meats          350.877193\n",
       "Beverages          363.888889\n",
       "                     ...     \n",
       "Spanish           1971.428571\n",
       "Sushi             2171.428571\n",
       "Drinks Only       2800.000000\n",
       "South American    3750.000000\n",
       "Sri Lankan        6000.000000\n",
       "Name: Average Cost for two, Length: 90, dtype: float64"
      ]
     },
     "execution_count": 88,
     "metadata": {},
     "output_type": "execute_result"
    }
   ],
   "source": [
    "data[data.Country=='India'].groupby('Cuisines')['Average Cost for two'].mean().sort_values()"
   ]
  },
  {
   "cell_type": "markdown",
   "id": "03fe9ef1-4308-45ac-9ac7-adeecd366698",
   "metadata": {},
   "source": [
    "We can the variation of 'Average Cost for two' between the cheapest Cuisine in India is 'Mithai' (257.63) and the costliest Cuisine is 'Sri Lankan' (6000.00)"
   ]
  },
  {
   "cell_type": "markdown",
   "id": "eececead-6dca-49b3-89da-0d0d48db7a84",
   "metadata": {},
   "source": [
    "##### Indian Cuisines vs 'Aggregate rating'"
   ]
  },
  {
   "cell_type": "code",
   "execution_count": 193,
   "id": "22c6456d-d94a-44c6-bffa-32f2a7905005",
   "metadata": {},
   "outputs": [
    {
     "data": {
      "text/plain": [
       "Cuisines\n",
       "Persian           4.600000\n",
       "German            4.350000\n",
       "Modern Indian     4.281250\n",
       "Charcoal Grill    4.175000\n",
       "Parsi             4.100000\n",
       "                    ...   \n",
       "Moroccan          1.620000\n",
       "Awadhi            1.572727\n",
       "Afghani           1.418182\n",
       "Armenian          1.300000\n",
       "Cuisine Varies    0.000000\n",
       "Name: Aggregate rating, Length: 90, dtype: float64"
      ]
     },
     "execution_count": 193,
     "metadata": {},
     "output_type": "execute_result"
    }
   ],
   "source": [
    "data[data.Country=='India'].groupby('Cuisines')['Aggregate rating'].mean().sort_values(ascending=False)"
   ]
  },
  {
   "cell_type": "markdown",
   "id": "18f775c4-1c4b-4cb9-ba0f-db83c9037867",
   "metadata": {},
   "source": [
    "'Persian', 'German', 'Modern Indian', 'Charcoal Grill', 'Parsi' are the top 5 rated Cuisines in india"
   ]
  },
  {
   "cell_type": "markdown",
   "id": "14e73604-d51d-433d-afeb-43f691cb9eba",
   "metadata": {},
   "source": [
    "##### Cuisines of India which have mean 'Aggregate rating' above 4.0"
   ]
  },
  {
   "cell_type": "code",
   "execution_count": 192,
   "id": "dd3cddbf-b26d-40ae-8369-66f0d3514a89",
   "metadata": {},
   "outputs": [
    {
     "data": {
      "text/plain": [
       "Cuisines\n",
       "Burmese           True\n",
       "Charcoal Grill    True\n",
       "German            True\n",
       "Iranian           True\n",
       "Modern Indian     True\n",
       "Parsi             True\n",
       "Persian           True\n",
       "Spanish           True\n",
       "Steak             True\n",
       "Name: Aggregate rating, dtype: bool"
      ]
     },
     "execution_count": 192,
     "metadata": {},
     "output_type": "execute_result"
    }
   ],
   "source": [
    "#storing cuisines with rating > 4\n",
    "rating_4 = data[data.Country=='India'].groupby('Cuisines')['Aggregate rating'].mean()>4.0\n",
    "\n",
    "rating_4[rating_4.values==True]"
   ]
  },
  {
   "cell_type": "markdown",
   "id": "ca3a953e-f137-497b-a324-fc3e8dae5c69",
   "metadata": {},
   "source": [
    "'Burmese', 'Charcoal Grill', 'German', 'Iranian', 'Modern Indian', 'Parsi', 'Persian', 'Spanish', 'Steak' are Cuisines of India which have mean 'Aggregate rating' above 4.0"
   ]
  },
  {
   "cell_type": "markdown",
   "id": "9972ee8b-de80-4de4-ac50-6c61aa9320d1",
   "metadata": {},
   "source": [
    "##### Top 10 Indian Cuisines with more no of votes"
   ]
  },
  {
   "cell_type": "code",
   "execution_count": 196,
   "id": "7be69df9-7739-4dc8-a324-056a9e50e1a5",
   "metadata": {},
   "outputs": [
    {
     "data": {
      "image/png": "[encoded data removed]",
      "text/plain": [
       "<Figure size 1800x700 with 1 Axes>"
      ]
     },
     "metadata": {},
     "output_type": "display_data"
    }
   ],
   "source": [
    "plt.figure(figsize=(18,7))\n",
    "plt.title('Top 10 Indian Cuisines with more no of votes')\n",
    "\n",
    "data[data.Country=='India'].groupby('Cuisines')['Votes'].sum().sort_values(ascending=False).head(10).plot(kind='bar', rot=45)\n",
    "plt.show()"
   ]
  },
  {
   "cell_type": "code",
   "execution_count": null,
   "id": "f08fd3a7-1726-4fcb-bfba-a739a5c8a2d4",
   "metadata": {},
   "outputs": [],
   "source": []
  }
 ],
 "metadata": {
  "kernelspec": {
   "display_name": "Python 3 (ipykernel)",
   "language": "python",
   "name": "python3"
  },
  "language_info": {
   "codemirror_mode": {
    "name": "ipython",
    "version": 3
   },
   "file_extension": ".py",
   "mimetype": "text/x-python",
   "name": "python",
   "nbconvert_exporter": "python",
   "pygments_lexer": "ipython3",
   "version": "3.9.13"
  },
  "toc-autonumbering": false,
  "toc-showcode": false,
  "toc-showmarkdowntxt": false,
  "toc-showtags": false
 },
 "nbformat": 4,
 "nbformat_minor": 5
}
